{
  "nbformat": 4,
  "nbformat_minor": 0,
  "metadata": {
    "colab": {
      "name": "ex2.ipynb",
      "provenance": [],
      "collapsed_sections": [],
      "authorship_tag": "ABX9TyN5yh3Ma/c0WclN7bVXoABS",
      "include_colab_link": true
    },
    "kernelspec": {
      "name": "python3",
      "display_name": "Python 3"
    }
  },
  "cells": [
    {
      "cell_type": "markdown",
      "metadata": {
        "id": "view-in-github",
        "colab_type": "text"
      },
      "source": [
        "<a href=\"https://colab.research.google.com/github/kansai-pg/Python/blob/master/ex2.ipynb\" target=\"_parent\"><img src=\"https://colab.research.google.com/assets/colab-badge.svg\" alt=\"Open In Colab\"/></a>"
      ]
    },
    {
      "cell_type": "code",
      "metadata": {
        "colab": {
          "base_uri": "https://localhost:8080/"
        },
        "id": "40DCcJBWa0BQ",
        "outputId": "77f8a607-ee3d-4535-f56c-cfa7a267a4fc"
      },
      "source": [
        "!wget https://gist.githubusercontent.com/murayama333/5b3cbe9ddbaadd2633b5a697242904bb/raw/bf3dd0fac6d945a8889ff3840ab0a3fa961618e9/anscombe.csv"
      ],
      "execution_count": null,
      "outputs": [
        {
          "output_type": "stream",
          "text": [
            "--2021-03-10 04:36:22--  https://gist.githubusercontent.com/murayama333/5b3cbe9ddbaadd2633b5a697242904bb/raw/bf3dd0fac6d945a8889ff3840ab0a3fa961618e9/anscombe.csv\n",
            "Resolving gist.githubusercontent.com (gist.githubusercontent.com)... 185.199.108.133, 185.199.109.133, 185.199.110.133, ...\n",
            "Connecting to gist.githubusercontent.com (gist.githubusercontent.com)|185.199.108.133|:443... connected.\n",
            "HTTP request sent, awaiting response... 200 OK\n",
            "Length: 439 [text/plain]\n",
            "Saving to: ‘anscombe.csv’\n",
            "\n",
            "\ranscombe.csv          0%[                    ]       0  --.-KB/s               \ranscombe.csv        100%[===================>]     439  --.-KB/s    in 0s      \n",
            "\n",
            "2021-03-10 04:36:22 (15.7 MB/s) - ‘anscombe.csv’ saved [439/439]\n",
            "\n"
          ],
          "name": "stdout"
        }
      ]
    },
    {
      "cell_type": "code",
      "metadata": {
        "colab": {
          "base_uri": "https://localhost:8080/",
          "height": 390
        },
        "id": "iJVzwvwSbYIJ",
        "outputId": "11f589de-589f-4aae-ea50-53501b577032"
      },
      "source": [
        "import pandas as pd\n",
        "\n",
        "anscombe_df = pd.read_csv(\"anscombe.csv\")\n",
        "anscombe_df"
      ],
      "execution_count": null,
      "outputs": [
        {
          "output_type": "execute_result",
          "data": {
            "text/html": [
              "<div>\n",
              "<style scoped>\n",
              "    .dataframe tbody tr th:only-of-type {\n",
              "        vertical-align: middle;\n",
              "    }\n",
              "\n",
              "    .dataframe tbody tr th {\n",
              "        vertical-align: top;\n",
              "    }\n",
              "\n",
              "    .dataframe thead th {\n",
              "        text-align: right;\n",
              "    }\n",
              "</style>\n",
              "<table border=\"1\" class=\"dataframe\">\n",
              "  <thead>\n",
              "    <tr style=\"text-align: right;\">\n",
              "      <th></th>\n",
              "      <th>x1</th>\n",
              "      <th>y1</th>\n",
              "      <th>x2</th>\n",
              "      <th>y2</th>\n",
              "      <th>x3</th>\n",
              "      <th>y3</th>\n",
              "      <th>x4</th>\n",
              "      <th>y4</th>\n",
              "    </tr>\n",
              "  </thead>\n",
              "  <tbody>\n",
              "    <tr>\n",
              "      <th>0</th>\n",
              "      <td>10.0</td>\n",
              "      <td>8.04</td>\n",
              "      <td>10.0</td>\n",
              "      <td>9.14</td>\n",
              "      <td>10.0</td>\n",
              "      <td>7.46</td>\n",
              "      <td>8.0</td>\n",
              "      <td>6.58</td>\n",
              "    </tr>\n",
              "    <tr>\n",
              "      <th>1</th>\n",
              "      <td>8.0</td>\n",
              "      <td>6.95</td>\n",
              "      <td>8.0</td>\n",
              "      <td>8.14</td>\n",
              "      <td>8.0</td>\n",
              "      <td>6.77</td>\n",
              "      <td>8.0</td>\n",
              "      <td>5.76</td>\n",
              "    </tr>\n",
              "    <tr>\n",
              "      <th>2</th>\n",
              "      <td>13.0</td>\n",
              "      <td>7.58</td>\n",
              "      <td>13.0</td>\n",
              "      <td>8.74</td>\n",
              "      <td>13.0</td>\n",
              "      <td>12.74</td>\n",
              "      <td>8.0</td>\n",
              "      <td>7.71</td>\n",
              "    </tr>\n",
              "    <tr>\n",
              "      <th>3</th>\n",
              "      <td>9.0</td>\n",
              "      <td>8.81</td>\n",
              "      <td>9.0</td>\n",
              "      <td>8.77</td>\n",
              "      <td>9.0</td>\n",
              "      <td>7.11</td>\n",
              "      <td>8.0</td>\n",
              "      <td>8.84</td>\n",
              "    </tr>\n",
              "    <tr>\n",
              "      <th>4</th>\n",
              "      <td>11.0</td>\n",
              "      <td>8.33</td>\n",
              "      <td>11.0</td>\n",
              "      <td>9.26</td>\n",
              "      <td>11.0</td>\n",
              "      <td>7.81</td>\n",
              "      <td>8.0</td>\n",
              "      <td>8.47</td>\n",
              "    </tr>\n",
              "    <tr>\n",
              "      <th>5</th>\n",
              "      <td>14.0</td>\n",
              "      <td>9.96</td>\n",
              "      <td>14.0</td>\n",
              "      <td>8.10</td>\n",
              "      <td>14.0</td>\n",
              "      <td>8.84</td>\n",
              "      <td>8.0</td>\n",
              "      <td>7.04</td>\n",
              "    </tr>\n",
              "    <tr>\n",
              "      <th>6</th>\n",
              "      <td>6.0</td>\n",
              "      <td>7.24</td>\n",
              "      <td>6.0</td>\n",
              "      <td>6.13</td>\n",
              "      <td>6.0</td>\n",
              "      <td>6.08</td>\n",
              "      <td>8.0</td>\n",
              "      <td>5.25</td>\n",
              "    </tr>\n",
              "    <tr>\n",
              "      <th>7</th>\n",
              "      <td>4.0</td>\n",
              "      <td>4.26</td>\n",
              "      <td>4.0</td>\n",
              "      <td>3.10</td>\n",
              "      <td>4.0</td>\n",
              "      <td>5.39</td>\n",
              "      <td>19.0</td>\n",
              "      <td>12.50</td>\n",
              "    </tr>\n",
              "    <tr>\n",
              "      <th>8</th>\n",
              "      <td>12.0</td>\n",
              "      <td>10.84</td>\n",
              "      <td>12.0</td>\n",
              "      <td>9.13</td>\n",
              "      <td>12.0</td>\n",
              "      <td>8.15</td>\n",
              "      <td>8.0</td>\n",
              "      <td>5.56</td>\n",
              "    </tr>\n",
              "    <tr>\n",
              "      <th>9</th>\n",
              "      <td>7.0</td>\n",
              "      <td>4.82</td>\n",
              "      <td>7.0</td>\n",
              "      <td>7.26</td>\n",
              "      <td>7.0</td>\n",
              "      <td>6.42</td>\n",
              "      <td>8.0</td>\n",
              "      <td>7.91</td>\n",
              "    </tr>\n",
              "    <tr>\n",
              "      <th>10</th>\n",
              "      <td>5.0</td>\n",
              "      <td>5.68</td>\n",
              "      <td>5.0</td>\n",
              "      <td>4.74</td>\n",
              "      <td>5.0</td>\n",
              "      <td>5.73</td>\n",
              "      <td>8.0</td>\n",
              "      <td>6.89</td>\n",
              "    </tr>\n",
              "  </tbody>\n",
              "</table>\n",
              "</div>"
            ],
            "text/plain": [
              "      x1     y1    x2    y2    x3     y3    x4     y4\n",
              "0   10.0   8.04  10.0  9.14  10.0   7.46   8.0   6.58\n",
              "1    8.0   6.95   8.0  8.14   8.0   6.77   8.0   5.76\n",
              "2   13.0   7.58  13.0  8.74  13.0  12.74   8.0   7.71\n",
              "3    9.0   8.81   9.0  8.77   9.0   7.11   8.0   8.84\n",
              "4   11.0   8.33  11.0  9.26  11.0   7.81   8.0   8.47\n",
              "5   14.0   9.96  14.0  8.10  14.0   8.84   8.0   7.04\n",
              "6    6.0   7.24   6.0  6.13   6.0   6.08   8.0   5.25\n",
              "7    4.0   4.26   4.0  3.10   4.0   5.39  19.0  12.50\n",
              "8   12.0  10.84  12.0  9.13  12.0   8.15   8.0   5.56\n",
              "9    7.0   4.82   7.0  7.26   7.0   6.42   8.0   7.91\n",
              "10   5.0   5.68   5.0  4.74   5.0   5.73   8.0   6.89"
            ]
          },
          "metadata": {
            "tags": []
          },
          "execution_count": 6
        }
      ]
    },
    {
      "cell_type": "code",
      "metadata": {
        "colab": {
          "base_uri": "https://localhost:8080/"
        },
        "id": "ssXTmC4IcOAO",
        "outputId": "354c5f62-5886-4d66-a796-a13b044ac4c1"
      },
      "source": [
        "#1.3 DataFrame(anscombe_df)の \"x1\" 列の平均値を出力してください。\n",
        "col_x = \"x1\"\n",
        "anscombe_df[col_x].mean()"
      ],
      "execution_count": null,
      "outputs": [
        {
          "output_type": "execute_result",
          "data": {
            "text/plain": [
              "9.0"
            ]
          },
          "metadata": {
            "tags": []
          },
          "execution_count": 44
        }
      ]
    },
    {
      "cell_type": "code",
      "metadata": {
        "colab": {
          "base_uri": "https://localhost:8080/"
        },
        "id": "PKOGBOQndPxp",
        "outputId": "fb25659b-4ed9-4659-faa9-76b17ebf0f85"
      },
      "source": [
        "#1.4 DataFrame(anscombe_df)の \"x1\" 列の標準偏差を出力してください。\n",
        "anscombe_df[col_x].std(ddof=1)"
      ],
      "execution_count": null,
      "outputs": [
        {
          "output_type": "execute_result",
          "data": {
            "text/plain": [
              "3.3166247903554"
            ]
          },
          "metadata": {
            "tags": []
          },
          "execution_count": 45
        }
      ]
    },
    {
      "cell_type": "code",
      "metadata": {
        "colab": {
          "base_uri": "https://localhost:8080/"
        },
        "id": "Lu_X7Xyxe9Z1",
        "outputId": "d9c7e424-2682-4c8c-e0b9-824c52efba4c"
      },
      "source": [
        "#1.5 DataFrame(anscombe_df)の \"y1\" 列の平均値を出力してください。\n",
        "col_y = \"y1\"\n",
        "anscombe_df[col_y].mean()"
      ],
      "execution_count": null,
      "outputs": [
        {
          "output_type": "execute_result",
          "data": {
            "text/plain": [
              "7.500909090909093"
            ]
          },
          "metadata": {
            "tags": []
          },
          "execution_count": 46
        }
      ]
    },
    {
      "cell_type": "code",
      "metadata": {
        "colab": {
          "base_uri": "https://localhost:8080/"
        },
        "id": "kMqKmtsEgSjd",
        "outputId": "4a2513ac-540a-41db-bd51-8866b1e24f4e"
      },
      "source": [
        "#1.6 DataFrame(anscombe_df)の \"y1\" 列の標準偏差を出力してください。\n",
        "anscombe_df[col_y].std(ddof=1)"
      ],
      "execution_count": null,
      "outputs": [
        {
          "output_type": "execute_result",
          "data": {
            "text/plain": [
              "2.0305785113876023"
            ]
          },
          "metadata": {
            "tags": []
          },
          "execution_count": 40
        }
      ]
    },
    {
      "cell_type": "code",
      "metadata": {
        "colab": {
          "base_uri": "https://localhost:8080/",
          "height": 317
        },
        "id": "_OPzYgPpgeTH",
        "outputId": "b8464d8b-f15c-46d6-bf72-8139729e0363"
      },
      "source": [
        "#1.7 DataFrame(anscombe_df)の概要を出力してください。\n",
        "anscombe_df.describe()"
      ],
      "execution_count": null,
      "outputs": [
        {
          "output_type": "execute_result",
          "data": {
            "text/html": [
              "<div>\n",
              "<style scoped>\n",
              "    .dataframe tbody tr th:only-of-type {\n",
              "        vertical-align: middle;\n",
              "    }\n",
              "\n",
              "    .dataframe tbody tr th {\n",
              "        vertical-align: top;\n",
              "    }\n",
              "\n",
              "    .dataframe thead th {\n",
              "        text-align: right;\n",
              "    }\n",
              "</style>\n",
              "<table border=\"1\" class=\"dataframe\">\n",
              "  <thead>\n",
              "    <tr style=\"text-align: right;\">\n",
              "      <th></th>\n",
              "      <th>x1</th>\n",
              "      <th>y1</th>\n",
              "      <th>x2</th>\n",
              "      <th>y2</th>\n",
              "      <th>x3</th>\n",
              "      <th>y3</th>\n",
              "      <th>x4</th>\n",
              "      <th>y4</th>\n",
              "    </tr>\n",
              "  </thead>\n",
              "  <tbody>\n",
              "    <tr>\n",
              "      <th>count</th>\n",
              "      <td>11.000000</td>\n",
              "      <td>11.000000</td>\n",
              "      <td>11.000000</td>\n",
              "      <td>11.000000</td>\n",
              "      <td>11.000000</td>\n",
              "      <td>11.000000</td>\n",
              "      <td>11.000000</td>\n",
              "      <td>11.000000</td>\n",
              "    </tr>\n",
              "    <tr>\n",
              "      <th>mean</th>\n",
              "      <td>9.000000</td>\n",
              "      <td>7.500909</td>\n",
              "      <td>9.000000</td>\n",
              "      <td>7.500909</td>\n",
              "      <td>9.000000</td>\n",
              "      <td>7.500000</td>\n",
              "      <td>9.000000</td>\n",
              "      <td>7.500909</td>\n",
              "    </tr>\n",
              "    <tr>\n",
              "      <th>std</th>\n",
              "      <td>3.316625</td>\n",
              "      <td>2.031568</td>\n",
              "      <td>3.316625</td>\n",
              "      <td>2.031657</td>\n",
              "      <td>3.316625</td>\n",
              "      <td>2.030424</td>\n",
              "      <td>3.316625</td>\n",
              "      <td>2.030579</td>\n",
              "    </tr>\n",
              "    <tr>\n",
              "      <th>min</th>\n",
              "      <td>4.000000</td>\n",
              "      <td>4.260000</td>\n",
              "      <td>4.000000</td>\n",
              "      <td>3.100000</td>\n",
              "      <td>4.000000</td>\n",
              "      <td>5.390000</td>\n",
              "      <td>8.000000</td>\n",
              "      <td>5.250000</td>\n",
              "    </tr>\n",
              "    <tr>\n",
              "      <th>25%</th>\n",
              "      <td>6.500000</td>\n",
              "      <td>6.315000</td>\n",
              "      <td>6.500000</td>\n",
              "      <td>6.695000</td>\n",
              "      <td>6.500000</td>\n",
              "      <td>6.250000</td>\n",
              "      <td>8.000000</td>\n",
              "      <td>6.170000</td>\n",
              "    </tr>\n",
              "    <tr>\n",
              "      <th>50%</th>\n",
              "      <td>9.000000</td>\n",
              "      <td>7.580000</td>\n",
              "      <td>9.000000</td>\n",
              "      <td>8.140000</td>\n",
              "      <td>9.000000</td>\n",
              "      <td>7.110000</td>\n",
              "      <td>8.000000</td>\n",
              "      <td>7.040000</td>\n",
              "    </tr>\n",
              "    <tr>\n",
              "      <th>75%</th>\n",
              "      <td>11.500000</td>\n",
              "      <td>8.570000</td>\n",
              "      <td>11.500000</td>\n",
              "      <td>8.950000</td>\n",
              "      <td>11.500000</td>\n",
              "      <td>7.980000</td>\n",
              "      <td>8.000000</td>\n",
              "      <td>8.190000</td>\n",
              "    </tr>\n",
              "    <tr>\n",
              "      <th>max</th>\n",
              "      <td>14.000000</td>\n",
              "      <td>10.840000</td>\n",
              "      <td>14.000000</td>\n",
              "      <td>9.260000</td>\n",
              "      <td>14.000000</td>\n",
              "      <td>12.740000</td>\n",
              "      <td>19.000000</td>\n",
              "      <td>12.500000</td>\n",
              "    </tr>\n",
              "  </tbody>\n",
              "</table>\n",
              "</div>"
            ],
            "text/plain": [
              "              x1         y1         x2  ...         y3         x4         y4\n",
              "count  11.000000  11.000000  11.000000  ...  11.000000  11.000000  11.000000\n",
              "mean    9.000000   7.500909   9.000000  ...   7.500000   9.000000   7.500909\n",
              "std     3.316625   2.031568   3.316625  ...   2.030424   3.316625   2.030579\n",
              "min     4.000000   4.260000   4.000000  ...   5.390000   8.000000   5.250000\n",
              "25%     6.500000   6.315000   6.500000  ...   6.250000   8.000000   6.170000\n",
              "50%     9.000000   7.580000   9.000000  ...   7.110000   8.000000   7.040000\n",
              "75%    11.500000   8.570000  11.500000  ...   7.980000   8.000000   8.190000\n",
              "max    14.000000  10.840000  14.000000  ...  12.740000  19.000000  12.500000\n",
              "\n",
              "[8 rows x 8 columns]"
            ]
          },
          "metadata": {
            "tags": []
          },
          "execution_count": 43
        }
      ]
    },
    {
      "cell_type": "code",
      "metadata": {
        "colab": {
          "base_uri": "https://localhost:8080/",
          "height": 111
        },
        "id": "afSXTd7ygx58",
        "outputId": "1cc24d5c-3647-493a-dbeb-059306283be5"
      },
      "source": [
        "#1.8 DataFrame(anscombe_df)の\"x1\"、\"x2\"の相関係数を出力してください。\n",
        "\n",
        "anscombe_df[[col_x, col_y]].corr()"
      ],
      "execution_count": null,
      "outputs": [
        {
          "output_type": "execute_result",
          "data": {
            "text/html": [
              "<div>\n",
              "<style scoped>\n",
              "    .dataframe tbody tr th:only-of-type {\n",
              "        vertical-align: middle;\n",
              "    }\n",
              "\n",
              "    .dataframe tbody tr th {\n",
              "        vertical-align: top;\n",
              "    }\n",
              "\n",
              "    .dataframe thead th {\n",
              "        text-align: right;\n",
              "    }\n",
              "</style>\n",
              "<table border=\"1\" class=\"dataframe\">\n",
              "  <thead>\n",
              "    <tr style=\"text-align: right;\">\n",
              "      <th></th>\n",
              "      <th>x1</th>\n",
              "      <th>y1</th>\n",
              "    </tr>\n",
              "  </thead>\n",
              "  <tbody>\n",
              "    <tr>\n",
              "      <th>x1</th>\n",
              "      <td>1.000000</td>\n",
              "      <td>0.816421</td>\n",
              "    </tr>\n",
              "    <tr>\n",
              "      <th>y1</th>\n",
              "      <td>0.816421</td>\n",
              "      <td>1.000000</td>\n",
              "    </tr>\n",
              "  </tbody>\n",
              "</table>\n",
              "</div>"
            ],
            "text/plain": [
              "          x1        y1\n",
              "x1  1.000000  0.816421\n",
              "y1  0.816421  1.000000"
            ]
          },
          "metadata": {
            "tags": []
          },
          "execution_count": 47
        }
      ]
    },
    {
      "cell_type": "code",
      "metadata": {
        "colab": {
          "base_uri": "https://localhost:8080/",
          "height": 296
        },
        "id": "eqBzqLgagSh_",
        "outputId": "55dc69ac-84b8-4110-9df9-3241befa1555"
      },
      "source": [
        "#1.9 DataFrame(anscombe_df)の\"x1\"、\"x2\"の散布図を出力してください。\n",
        "\n",
        "anscombe_df.plot.scatter(col_x, col_y)"
      ],
      "execution_count": null,
      "outputs": [
        {
          "output_type": "execute_result",
          "data": {
            "text/plain": [
              "<matplotlib.axes._subplots.AxesSubplot at 0x7fc2976c8990>"
            ]
          },
          "metadata": {
            "tags": []
          },
          "execution_count": 48
        },
        {
          "output_type": "display_data",
          "data": {
            "image/png": "[encoded data removed]",
            "text/plain": [
              "<Figure size 432x288 with 1 Axes>"
            ]
          },
          "metadata": {
            "tags": [],
            "needs_background": "light"
          }
        }
      ]
    },
    {
      "cell_type": "code",
      "metadata": {
        "colab": {
          "base_uri": "https://localhost:8080/"
        },
        "id": "ErCYfoBth-iv",
        "outputId": "fe31d0e6-1720-4c65-9316-da2ff533db92"
      },
      "source": [
        "#1.10 DataFrame(anscombe_df)の\"x1\"、\"x2\"の回帰直線の係数、切片を出力してください。\n",
        "\n",
        "from sklearn.linear_model import LinearRegression\n",
        "\n",
        "reg = LinearRegression()\n",
        "\n",
        "reg.fit(anscombe_df[[col_x]], anscombe_df[col_y])\n",
        "\n",
        "print(reg.coef_)\n",
        "print(reg.intercept_)"
      ],
      "execution_count": null,
      "outputs": [
        {
          "output_type": "stream",
          "text": [
            "[0.50009091]\n",
            "3.0000909090909094\n"
          ],
          "name": "stdout"
        }
      ]
    },
    {
      "cell_type": "code",
      "metadata": {
        "id": "BZZnhlbljfLI"
      },
      "source": [
        "#1.11 DataFrame(anscombe_df)の\"x1\"、\"x2\"の回帰直線の決定係数を出力してください。\n",
        "\n"
      ],
      "execution_count": null,
      "outputs": []
    }
  ]
}