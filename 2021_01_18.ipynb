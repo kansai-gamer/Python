{
  "nbformat": 4,
  "nbformat_minor": 0,
  "metadata": {
    "colab": {
      "name": "2021/01/18.ipynb",
      "provenance": [],
      "collapsed_sections": [
        "BeU_cKJY3s_M",
        "vO-c93cg6Eyc",
        "-y8xd6yy8US1"
      ],
      "toc_visible": true,
      "authorship_tag": "ABX9TyNS3beFureBRv60BwQdBKVY",
      "include_colab_link": true
    },
    "kernelspec": {
      "name": "python3",
      "display_name": "Python 3"
    }
  },
  "cells": [
    {
      "cell_type": "markdown",
      "metadata": {
        "id": "view-in-github",
        "colab_type": "text"
      },
      "source": [
        "<a href=\"https://colab.research.google.com/github/kansai-gamer/Python/blob/master/2021_01_18.ipynb\" target=\"_parent\"><img src=\"https://colab.research.google.com/assets/colab-badge.svg\" alt=\"Open In Colab\"/></a>"
      ]
    },
    {
      "cell_type": "markdown",
      "metadata": {
        "id": "BeU_cKJY3s_M"
      },
      "source": [
        "#エクササイズ - データサイエンス入門"
      ]
    },
    {
      "cell_type": "markdown",
      "metadata": {
        "id": "vO-c93cg6Eyc"
      },
      "source": [
        "##課題1"
      ]
    },
    {
      "cell_type": "code",
      "metadata": {
        "colab": {
          "base_uri": "https://localhost:8080/"
        },
        "id": "WRJZTsS03w3V",
        "outputId": "99e64796-7e36-4ef4-a72b-bd0bd1857db5"
      },
      "source": [
        "def print_mean(data):\n",
        "  print(round(sum(data) / len(data)))\n",
        "\n",
        "def print_std(data):\n",
        "  mean = sum(data) / len(data)\n",
        "  total = 0\n",
        "  for e in data:\n",
        "    total += (mean - e) ** 2\n",
        "  print(round((total / len(data)) ** 0.5, 2))\n",
        "\n",
        "y = [59, 72, 64, 63, 57, 71, 62, 52, 66, 67, \n",
        "     66, 66, 73, 59, 71, 62, 61, 63, 61, 63, \n",
        "     63, 65, 64, 62, 63, 52, 64, 66, 63, 55]\n",
        "\n",
        "z = [39, 52, 29, 45, 37, 46, 25, 48, 46, 36, \n",
        "     49, 53, 64, 50, 62, 71, 82, 94, 90, 77, \n",
        "     71, 71, 82, 95, 91, 87, 73, 78, 80, 80]\n",
        "\n",
        "print_mean(y)"
      ],
      "execution_count": null,
      "outputs": [
        {
          "output_type": "stream",
          "text": [
            "63\n",
            "63\n",
            "5.01\n",
            "20.31\n"
          ],
          "name": "stdout"
        }
      ]
    },
    {
      "cell_type": "code",
      "metadata": {
        "colab": {
          "base_uri": "https://localhost:8080/"
        },
        "id": "UiYlai6P5nEO",
        "outputId": "d11bec7a-2b18-44c6-c135-a6904eae4336"
      },
      "source": [
        "print_mean(z)"
      ],
      "execution_count": null,
      "outputs": [
        {
          "output_type": "stream",
          "text": [
            "63\n"
          ],
          "name": "stdout"
        }
      ]
    },
    {
      "cell_type": "code",
      "metadata": {
        "colab": {
          "base_uri": "https://localhost:8080/"
        },
        "id": "zAlsNXkK56y5",
        "outputId": "36b7519d-2b91-474b-cb87-e30f3b113a22"
      },
      "source": [
        "print_std(y)"
      ],
      "execution_count": null,
      "outputs": [
        {
          "output_type": "stream",
          "text": [
            "5.01\n"
          ],
          "name": "stdout"
        }
      ]
    },
    {
      "cell_type": "code",
      "metadata": {
        "colab": {
          "base_uri": "https://localhost:8080/"
        },
        "id": "ZoqRZc-i6ARP",
        "outputId": "7d181322-cbbb-438d-e551-b743575cef6c"
      },
      "source": [
        "print_std(z)"
      ],
      "execution_count": null,
      "outputs": [
        {
          "output_type": "stream",
          "text": [
            "20.31\n"
          ],
          "name": "stdout"
        }
      ]
    },
    {
      "cell_type": "markdown",
      "metadata": {
        "id": "rF4nf1K46Kjs"
      },
      "source": [
        "##課題2"
      ]
    },
    {
      "cell_type": "code",
      "metadata": {
        "colab": {
          "base_uri": "https://localhost:8080/",
          "height": 439
        },
        "id": "5DxDQPsd6QKG",
        "outputId": "d33b6037-1745-424a-bfb7-4e4be4dd024b"
      },
      "source": [
        "import matplotlib.pyplot as plt\n",
        "\n",
        "def print_freq(data):\n",
        "  width = [0, 10, 20, 30, 40, 50, 60, 70, 80, 90, 100]\n",
        "  for i in range(len(width)):\n",
        "    if i == len(width) - 1:\n",
        "      break\n",
        "\n",
        "    w1 = width[i]\n",
        "    if i == len(width) - 2:\n",
        "      w2 = width[i + 1]\n",
        "    else:\n",
        "      w2 = width[i + 1] - 1\n",
        "    freq = 0\n",
        "    for e in data:\n",
        "      if w1 <= e and e <= w2:\n",
        "        freq = freq + 1\n",
        "    print(f\"{w1} - {w2}: {freq}\")\n",
        "\n",
        "def show_hist(data):\n",
        "  width = [0, 10, 20, 30, 40, 50, 60, 70, 80, 90, 100]\n",
        "  plt.grid()\n",
        "  plt.hist(data, bins=width)\n",
        "  plt.show()\n",
        "\n",
        "\n",
        "y = [59, 72, 64, 63, 57, 71, 62, 52, 66, 67, \n",
        "     66, 66, 73, 59, 71, 62, 61, 63, 61, 63, \n",
        "     63, 65, 64, 62, 63, 52, 64, 66, 63, 55]\n",
        "\n",
        "z = [39, 52, 29, 45, 37, 46, 25, 48, 46, 36, \n",
        "     49, 53, 64, 50, 62, 71, 82, 94, 90, 77, \n",
        "     71, 71, 82, 95, 91, 87, 73, 78, 80, 80]\n",
        "\n",
        "\n",
        "print_freq(y)\n",
        "show_hist(y)"
      ],
      "execution_count": null,
      "outputs": [
        {
          "output_type": "stream",
          "text": [
            "0 - 9: 0\n",
            "10 - 19: 0\n",
            "20 - 29: 0\n",
            "30 - 39: 0\n",
            "40 - 49: 0\n",
            "50 - 59: 6\n",
            "60 - 69: 20\n",
            "70 - 79: 4\n",
            "80 - 89: 0\n",
            "90 - 100: 0\n"
          ],
          "name": "stdout"
        },
        {
          "output_type": "display_data",
          "data": {
            "image/png": "[encoded data removed]",
            "text/plain": [
              "<Figure size 432x288 with 1 Axes>"
            ]
          },
          "metadata": {
            "tags": [],
            "needs_background": "light"
          }
        }
      ]
    },
    {
      "cell_type": "code",
      "metadata": {
        "colab": {
          "base_uri": "https://localhost:8080/",
          "height": 439
        },
        "id": "WKVQwUd88C1J",
        "outputId": "63c09414-959a-481a-f198-68172eb5b9dd"
      },
      "source": [
        "print_freq(z)\n",
        "show_hist(z)"
      ],
      "execution_count": null,
      "outputs": [
        {
          "output_type": "stream",
          "text": [
            "0 - 9: 0\n",
            "10 - 19: 0\n",
            "20 - 29: 2\n",
            "30 - 39: 3\n",
            "40 - 49: 5\n",
            "50 - 59: 3\n",
            "60 - 69: 2\n",
            "70 - 79: 6\n",
            "80 - 89: 5\n",
            "90 - 100: 4\n"
          ],
          "name": "stdout"
        },
        {
          "output_type": "display_data",
          "data": {
            "image/png": "[encoded data removed]",
            "text/plain": [
              "<Figure size 432x288 with 1 Axes>"
            ]
          },
          "metadata": {
            "tags": [],
            "needs_background": "light"
          }
        }
      ]
    },
    {
      "cell_type": "markdown",
      "metadata": {
        "id": "-y8xd6yy8US1"
      },
      "source": [
        "#エクササイズ - NumPy"
      ]
    },
    {
      "cell_type": "code",
      "metadata": {
        "id": "TvkZTvKZ91xY"
      },
      "source": [
        "import numpy as np"
      ],
      "execution_count": null,
      "outputs": []
    },
    {
      "cell_type": "code",
      "metadata": {
        "colab": {
          "base_uri": "https://localhost:8080/"
        },
        "id": "39Vk5w8R8n-Y",
        "outputId": "ba555067-32d1-4131-c7c6-1fd429a9b45e"
      },
      "source": [
        "#python numpy_ex01.py\n",
        "\n",
        "array = np.arange(0, 100, 5)\n",
        "\n",
        "print(array)"
      ],
      "execution_count": null,
      "outputs": [
        {
          "output_type": "stream",
          "text": [
            "[ 0  5 10 15 20 25 30 35 40 45 50 55 60 65 70 75 80 85 90 95]\n"
          ],
          "name": "stdout"
        }
      ]
    },
    {
      "cell_type": "code",
      "metadata": {
        "colab": {
          "base_uri": "https://localhost:8080/"
        },
        "id": "Cf2d4uCX8zET",
        "outputId": "8dacd387-f503-4cc5-c3ad-6db51359d08c"
      },
      "source": [
        "#numpy_ex02.py\n",
        "\n",
        "array = np.arange(0, 100, 5).reshape(4, 5)\n",
        "\n",
        "print(array)"
      ],
      "execution_count": null,
      "outputs": [
        {
          "output_type": "stream",
          "text": [
            "[[ 0  5 10 15 20]\n",
            " [25 30 35 40 45]\n",
            " [50 55 60 65 70]\n",
            " [75 80 85 90 95]]\n"
          ],
          "name": "stdout"
        }
      ]
    },
    {
      "cell_type": "code",
      "metadata": {
        "colab": {
          "base_uri": "https://localhost:8080/"
        },
        "id": "Zr39pJdnAq9N",
        "outputId": "22fee010-c0f6-440d-d8ff-e330e839edff"
      },
      "source": [
        "#numpy_ex03.py\n",
        "\n",
        "array = np.arange(0, 100, 5).reshape(20, -1)\n",
        "\n",
        "print(array)"
      ],
      "execution_count": null,
      "outputs": [
        {
          "output_type": "stream",
          "text": [
            "[[ 0]\n",
            " [ 5]\n",
            " [10]\n",
            " [15]\n",
            " [20]\n",
            " [25]\n",
            " [30]\n",
            " [35]\n",
            " [40]\n",
            " [45]\n",
            " [50]\n",
            " [55]\n",
            " [60]\n",
            " [65]\n",
            " [70]\n",
            " [75]\n",
            " [80]\n",
            " [85]\n",
            " [90]\n",
            " [95]]\n"
          ],
          "name": "stdout"
        }
      ]
    },
    {
      "cell_type": "code",
      "metadata": {
        "colab": {
          "base_uri": "https://localhost:8080/"
        },
        "id": "0fcmD_kDBRHO",
        "outputId": "bff8b03f-0fe1-4cf7-d1c2-72162d58cc03"
      },
      "source": [
        "#numpy_ex04.py\n",
        "array = np.linspace(0, 100, 5, dtype=\"int64\")\n",
        "\n",
        "print(array)"
      ],
      "execution_count": null,
      "outputs": [
        {
          "output_type": "stream",
          "text": [
            "[  0  25  50  75 100]\n"
          ],
          "name": "stdout"
        }
      ]
    },
    {
      "cell_type": "code",
      "metadata": {
        "colab": {
          "base_uri": "https://localhost:8080/"
        },
        "id": "AOpSkCwyIqwb",
        "outputId": "28b9db20-2872-48c7-8e81-327a12bc4d92"
      },
      "source": [
        "#numpy_ex05.py\n",
        "\n",
        "print(np.zeros(25, dtype='int').reshape(5,5))"
      ],
      "execution_count": null,
      "outputs": [
        {
          "output_type": "stream",
          "text": [
            "[[0 0 0 0 0]\n",
            " [0 0 0 0 0]\n",
            " [0 0 0 0 0]\n",
            " [0 0 0 0 0]\n",
            " [0 0 0 0 0]]\n"
          ],
          "name": "stdout"
        }
      ]
    },
    {
      "cell_type": "code",
      "metadata": {
        "colab": {
          "base_uri": "https://localhost:8080/"
        },
        "id": "-pRBSPxxI5dC",
        "outputId": "b25792a0-9480-4c58-b76b-76a53b511908"
      },
      "source": [
        "#numpy_ex06.py\n",
        "np.set_printoptions(precision=3, floatmode='fixed')\n",
        "\n",
        "print(np.random.rand(5,5))"
      ],
      "execution_count": null,
      "outputs": [
        {
          "output_type": "stream",
          "text": [
            "[[0.391 0.860 0.720 0.019 0.538]\n",
            " [0.500 0.114 0.219 0.441 0.344]\n",
            " [0.393 0.261 0.899 0.912 0.441]\n",
            " [0.372 0.452 0.974 0.507 0.856]\n",
            " [0.585 0.319 0.044 0.673 0.542]]\n"
          ],
          "name": "stdout"
        }
      ]
    },
    {
      "cell_type": "code",
      "metadata": {
        "colab": {
          "base_uri": "https://localhost:8080/"
        },
        "id": "O3Qcugd3JlgD",
        "outputId": "4cc8673e-164b-43cb-b5de-efd63e48e606"
      },
      "source": [
        "#numpy_ex07.py\n",
        "\n",
        "array = np.array([1, 2, 3, 4, 5])\n",
        "\n",
        "a = array * 10\n",
        "\n",
        "print(a)"
      ],
      "execution_count": null,
      "outputs": [
        {
          "output_type": "stream",
          "text": [
            "[10 20 30 40 50]\n"
          ],
          "name": "stdout"
        }
      ]
    },
    {
      "cell_type": "code",
      "metadata": {
        "colab": {
          "base_uri": "https://localhost:8080/"
        },
        "id": "VwsfCP1rKW89",
        "outputId": "7402a45e-2c15-4de6-9bad-e898db7d8547"
      },
      "source": [
        "#numpy_ex08.py\n",
        "\n",
        "array1 = np.array([1, 2, 3])\n",
        "array2 = np.array([10, 20, 30])\n",
        "\n",
        "array3 = array1 + array2\n",
        "\n",
        "print(array3)"
      ],
      "execution_count": null,
      "outputs": [
        {
          "output_type": "stream",
          "text": [
            "[11 22 33]\n"
          ],
          "name": "stdout"
        }
      ]
    },
    {
      "cell_type": "code",
      "metadata": {
        "colab": {
          "base_uri": "https://localhost:8080/"
        },
        "id": "-9hXWxWJLwCG",
        "outputId": "eeeb29a0-7355-4521-fe19-e0eae3605038"
      },
      "source": [
        "#numpy_ex09.py\n",
        "\n",
        "array1 = np.array([1, 2, 3, 4, 5])\n",
        "array2 = np.array([1, 0, 1, 0, 1])\n",
        "\n",
        "print(np.dot(array1, array2))"
      ],
      "execution_count": null,
      "outputs": [
        {
          "output_type": "stream",
          "text": [
            "9\n"
          ],
          "name": "stdout"
        }
      ]
    },
    {
      "cell_type": "code",
      "metadata": {
        "colab": {
          "base_uri": "https://localhost:8080/"
        },
        "id": "PWbBgwVRMSkG",
        "outputId": "89f5301f-1610-4b18-b329-22e1c3f42bd4"
      },
      "source": [
        "#numpy_ex10.py\n",
        "\n",
        "array = np.array([15, 25, 30, 35, 45])\n",
        "\n",
        "print(array)\n",
        "print(\"sum:\",sum(array))\n",
        "print(\"mean:\",np.mean(array))\n",
        "print(\"var:\",np.var(array))\n",
        "print(\"std:\",np.std(array))"
      ],
      "execution_count": null,
      "outputs": [
        {
          "output_type": "stream",
          "text": [
            "[15 25 30 35 45]\n",
            "sum: 150\n",
            "mean: 30.0\n",
            "var: 100.0\n",
            "std: 10.0\n"
          ],
          "name": "stdout"
        }
      ]
    },
    {
      "cell_type": "markdown",
      "metadata": {
        "id": "lHPbxwSGORuV"
      },
      "source": [
        "#トレーニング - データサイエンス入門"
      ]
    },
    {
      "cell_type": "code",
      "metadata": {
        "colab": {
          "base_uri": "https://localhost:8080/"
        },
        "id": "RDnGUSEqOZDZ",
        "outputId": "ea4c9a0b-6c0b-4fa4-8024-4da09c9e1d75"
      },
      "source": [
        "#ds_tr01.py\n",
        "def print_min(data):\n",
        "  print(\"Min:\"+str(min(data)))\n",
        "\n",
        "def print_max(data):\n",
        "  print(\"Max:\"+str(max(data)))\n",
        "\n",
        "def print_median(data):\n",
        "   print(\"Median\",str(np.median(data)))\n",
        "\n",
        "def print_mean(data):\n",
        "  print(\"Mean\",str(np.mean(data)))\n",
        "\n",
        "def print_var(data):\n",
        "  print(\"Var\",str(np.var(data)))\n",
        "\n",
        "def print_std(data):\n",
        "  print(\"Std\",str(np.std(data)))\n",
        "\n",
        "x = [150, 145, 132, 142, 146, 161, 142, 137, 141, 152, \n",
        "     159, 157, 150, 151, 146, 146, 149, 157, 138]\n",
        "\n",
        "print_min(x)\n",
        "print_max(x)\n",
        "print_median(x)\n",
        "\n",
        "print_mean(x)\n",
        "print_var(x)\n",
        "print_std(x)"
      ],
      "execution_count": null,
      "outputs": [
        {
          "output_type": "stream",
          "text": [
            "Min:132\n",
            "Max:161\n",
            "Median 146.0\n",
            "Mean 147.42105263157896\n",
            "Var 57.82271468144045\n",
            "Std 7.60412484651853\n"
          ],
          "name": "stdout"
        }
      ]
    },
    {
      "cell_type": "code",
      "metadata": {
        "id": "QzfGsXgcPKUO"
      },
      "source": [
        ""
      ],
      "execution_count": null,
      "outputs": []
    }
  ]
}