{
  "nbformat": 4,
  "nbformat_minor": 0,
  "metadata": {
    "colab": {
      "name": "0224_ex.ipynb",
      "provenance": [],
      "collapsed_sections": [],
      "authorship_tag": "ABX9TyPwx9Or4bNmJf3ktnaRZ7ro"
    },
    "kernelspec": {
      "name": "python3",
      "display_name": "Python 3"
    }
  },
  "cells": [
    {
      "cell_type": "code",
      "metadata": {
        "colab": {
          "base_uri": "https://localhost:8080/"
        },
        "id": "YYHb2QmEqeQf",
        "outputId": "75026f46-2b0d-43c3-a2b7-7ef65405423b"
      },
      "source": [
        "#1.1 wgetコマンド以下のURLからでファイル（mytype.csv）をダウンロードしてください。\n",
        "\n",
        "!wget https://gist.githubusercontent.com/murayama333/11171cac80fddfc1ef0f5ad753ae0076/raw/3c79d9ddbfa5fc3e622f37631f95602fe1da1266/mytype.csv"
      ],
      "execution_count": null,
      "outputs": [
        {
          "output_type": "stream",
          "text": [
            "--2021-02-24 06:29:04--  https://gist.githubusercontent.com/murayama333/11171cac80fddfc1ef0f5ad753ae0076/raw/3c79d9ddbfa5fc3e622f37631f95602fe1da1266/mytype.csv\n",
            "Resolving gist.githubusercontent.com (gist.githubusercontent.com)... 185.199.108.133, 185.199.109.133, 185.199.110.133, ...\n",
            "Connecting to gist.githubusercontent.com (gist.githubusercontent.com)|185.199.108.133|:443... connected.\n",
            "HTTP request sent, awaiting response... 200 OK\n",
            "Length: 11558 (11K) [text/plain]\n",
            "Saving to: ‘mytype.csv’\n",
            "\n",
            "\rmytype.csv            0%[                    ]       0  --.-KB/s               \rmytype.csv          100%[===================>]  11.29K  --.-KB/s    in 0s      \n",
            "\n",
            "2021-02-24 06:29:05 (77.6 MB/s) - ‘mytype.csv’ saved [11558/11558]\n",
            "\n"
          ],
          "name": "stdout"
        }
      ]
    },
    {
      "cell_type": "code",
      "metadata": {
        "id": "YaTiKzlrqryf"
      },
      "source": [
        "import pandas as pd\n",
        "import matplotlib.pyplot as plt"
      ],
      "execution_count": null,
      "outputs": []
    },
    {
      "cell_type": "code",
      "metadata": {
        "colab": {
          "base_uri": "https://localhost:8080/",
          "height": 419
        },
        "id": "SsN1YfhyrE3W",
        "outputId": "9e6153d8-a8fe-4208-9e02-8619c68a008c"
      },
      "source": [
        "#1.2 pandasのDataFrameで mytype.csv を表示してください。\n",
        "mytype_df = pd.read_csv(\"mytype.csv\")\n",
        "mytype_df"
      ],
      "execution_count": null,
      "outputs": [
        {
          "output_type": "execute_result",
          "data": {
            "text/html": [
              "<div>\n",
              "<style scoped>\n",
              "    .dataframe tbody tr th:only-of-type {\n",
              "        vertical-align: middle;\n",
              "    }\n",
              "\n",
              "    .dataframe tbody tr th {\n",
              "        vertical-align: top;\n",
              "    }\n",
              "\n",
              "    .dataframe thead th {\n",
              "        text-align: right;\n",
              "    }\n",
              "</style>\n",
              "<table border=\"1\" class=\"dataframe\">\n",
              "  <thead>\n",
              "    <tr style=\"text-align: right;\">\n",
              "      <th></th>\n",
              "      <th>f1</th>\n",
              "      <th>f2</th>\n",
              "      <th>type</th>\n",
              "    </tr>\n",
              "  </thead>\n",
              "  <tbody>\n",
              "    <tr>\n",
              "      <th>0</th>\n",
              "      <td>2.286632</td>\n",
              "      <td>5.994033</td>\n",
              "      <td>0</td>\n",
              "    </tr>\n",
              "    <tr>\n",
              "      <th>1</th>\n",
              "      <td>4.184063</td>\n",
              "      <td>6.213322</td>\n",
              "      <td>0</td>\n",
              "    </tr>\n",
              "    <tr>\n",
              "      <th>2</th>\n",
              "      <td>8.176970</td>\n",
              "      <td>13.296028</td>\n",
              "      <td>1</td>\n",
              "    </tr>\n",
              "    <tr>\n",
              "      <th>3</th>\n",
              "      <td>3.020003</td>\n",
              "      <td>5.302735</td>\n",
              "      <td>0</td>\n",
              "    </tr>\n",
              "    <tr>\n",
              "      <th>4</th>\n",
              "      <td>3.471054</td>\n",
              "      <td>6.921841</td>\n",
              "      <td>0</td>\n",
              "    </tr>\n",
              "    <tr>\n",
              "      <th>...</th>\n",
              "      <td>...</td>\n",
              "      <td>...</td>\n",
              "      <td>...</td>\n",
              "    </tr>\n",
              "    <tr>\n",
              "      <th>295</th>\n",
              "      <td>1.693205</td>\n",
              "      <td>7.712895</td>\n",
              "      <td>0</td>\n",
              "    </tr>\n",
              "    <tr>\n",
              "      <th>296</th>\n",
              "      <td>9.860533</td>\n",
              "      <td>11.758099</td>\n",
              "      <td>1</td>\n",
              "    </tr>\n",
              "    <tr>\n",
              "      <th>297</th>\n",
              "      <td>4.805633</td>\n",
              "      <td>9.018470</td>\n",
              "      <td>0</td>\n",
              "    </tr>\n",
              "    <tr>\n",
              "      <th>298</th>\n",
              "      <td>9.143350</td>\n",
              "      <td>12.887626</td>\n",
              "      <td>1</td>\n",
              "    </tr>\n",
              "    <tr>\n",
              "      <th>299</th>\n",
              "      <td>11.186263</td>\n",
              "      <td>11.773378</td>\n",
              "      <td>1</td>\n",
              "    </tr>\n",
              "  </tbody>\n",
              "</table>\n",
              "<p>300 rows × 3 columns</p>\n",
              "</div>"
            ],
            "text/plain": [
              "            f1         f2  type\n",
              "0     2.286632   5.994033     0\n",
              "1     4.184063   6.213322     0\n",
              "2     8.176970  13.296028     1\n",
              "3     3.020003   5.302735     0\n",
              "4     3.471054   6.921841     0\n",
              "..         ...        ...   ...\n",
              "295   1.693205   7.712895     0\n",
              "296   9.860533  11.758099     1\n",
              "297   4.805633   9.018470     0\n",
              "298   9.143350  12.887626     1\n",
              "299  11.186263  11.773378     1\n",
              "\n",
              "[300 rows x 3 columns]"
            ]
          },
          "metadata": {
            "tags": []
          },
          "execution_count": 28
        }
      ]
    },
    {
      "cell_type": "code",
      "metadata": {
        "colab": {
          "base_uri": "https://localhost:8080/",
          "height": 296
        },
        "id": "jePnv703vmYV",
        "outputId": "1ef90a61-9506-48d5-8070-9d8385040d09"
      },
      "source": [
        "#1.3 DataFrame（mytype_df）の f1 と f2 の散布図を表示してください。\n",
        "mytype_df.plot.scatter(\"f1\", \"f2\")"
      ],
      "execution_count": null,
      "outputs": [
        {
          "output_type": "execute_result",
          "data": {
            "text/plain": [
              "<matplotlib.axes._subplots.AxesSubplot at 0x7fdceec10550>"
            ]
          },
          "metadata": {
            "tags": []
          },
          "execution_count": 30
        },
        {
          "output_type": "display_data",
          "data": {
            "image/png": "[encoded data removed]",
            "text/plain": [
              "<Figure size 432x288 with 1 Axes>"
            ]
          },
          "metadata": {
            "tags": [],
            "needs_background": "light"
          }
        }
      ]
    },
    {
      "cell_type": "code",
      "metadata": {
        "colab": {
          "base_uri": "https://localhost:8080/",
          "height": 296
        },
        "id": "QVn_J1C_sGpU",
        "outputId": "ce983c5e-1cea-4427-e4d5-31359e382e26"
      },
      "source": [
        "#1.4 DataFrame（mytype_df）の f1 と f2 の散布図を表示してください。ただし、type == 0 のデータは赤色、type == 1 のデータは青色で表示してください。\n",
        "ax = mytype_df[mytype_df[\"type\"] == 0].plot.scatter(\"f1\", \"f2\", color=\"red\")\n",
        "mytype_df[mytype_df[\"type\"] == 1].plot.scatter(\"f1\", \"f2\", color=\"blue\", ax=ax)"
      ],
      "execution_count": null,
      "outputs": [
        {
          "output_type": "execute_result",
          "data": {
            "text/plain": [
              "<matplotlib.axes._subplots.AxesSubplot at 0x7fdceecb4dd0>"
            ]
          },
          "metadata": {
            "tags": []
          },
          "execution_count": 29
        },
        {
          "output_type": "display_data",
          "data": {
            "image/png": "[encoded data removed]",
            "text/plain": [
              "<Figure size 432x288 with 1 Axes>"
            ]
          },
          "metadata": {
            "tags": [],
            "needs_background": "light"
          }
        }
      ]
    },
    {
      "cell_type": "code",
      "metadata": {
        "id": "C1a6Ib3oxMKs"
      },
      "source": [
        "from sklearn.model_selection import train_test_split"
      ],
      "execution_count": null,
      "outputs": []
    },
    {
      "cell_type": "code",
      "metadata": {
        "colab": {
          "base_uri": "https://localhost:8080/"
        },
        "id": "ercah8Hawctt",
        "outputId": "a87903b2-acce-4947-f68d-8112a641ba1d"
      },
      "source": [
        "#1.5 DataFrame（mytype_df）のデータを訓練データ75件、テストデータ25件に分割してください。\n",
        "x_train, x_test, y_train, y_test = train_test_split(mytype_df[[\"f1\", \"f2\"]].values, mytype_df[\"type\"].values, random_state=1)\n",
        "\n",
        "print(x_train.shape)\n",
        "print(x_test.shape)\n",
        "print(y_train.shape)\n",
        "print(y_test.shape)"
      ],
      "execution_count": null,
      "outputs": [
        {
          "output_type": "stream",
          "text": [
            "(225, 2)\n",
            "(75, 2)\n",
            "(225,)\n",
            "(75,)\n"
          ],
          "name": "stdout"
        }
      ]
    },
    {
      "cell_type": "code",
      "metadata": {
        "id": "zbFZpPCBxhU1"
      },
      "source": [
        "from sklearn.linear_model import LogisticRegression"
      ],
      "execution_count": null,
      "outputs": []
    },
    {
      "cell_type": "code",
      "metadata": {
        "colab": {
          "base_uri": "https://localhost:8080/"
        },
        "id": "kcWYVWiLxPfc",
        "outputId": "1cc27b1d-cee0-4d23-f951-af18fdaec561"
      },
      "source": [
        "#1.6 ロジスティック回帰によって、DataFrame（mytype_df）の訓練データで学習して、係数と切片を表示してください。\n",
        "clf = LogisticRegression()\n",
        "clf.fit(x_train, y_train)\n",
        "\n",
        "print(clf.coef_)\n",
        "print(clf.intercept_)"
      ],
      "execution_count": null,
      "outputs": [
        {
          "output_type": "stream",
          "text": [
            "[[1.86005888 1.04551713]]\n",
            "[-21.10019839]\n"
          ],
          "name": "stdout"
        }
      ]
    }
  ]
}