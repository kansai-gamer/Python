{
  "nbformat": 4,
  "nbformat_minor": 0,
  "metadata": {
    "colab": {
      "name": "date_science.ipynb",
      "provenance": [],
      "collapsed_sections": [],
      "authorship_tag": "ABX9TyMqFIc2fro44sXYYjJV4HMC"
    },
    "kernelspec": {
      "name": "python3",
      "display_name": "Python 3"
    }
  },
  "cells": [
    {
      "cell_type": "code",
      "metadata": {
        "id": "9PhzdTsITywS"
      },
      "source": [
        "def print_mean(data):\n",
        "  print(round(sum(data) / len(data)))\n",
        "\n",
        "def print_std(data):\n",
        "  mean = sum(data) / len(data)\n",
        "  total = 0\n",
        "  for e in data:\n",
        "    total += (mean -e) ** 2\n",
        "  print(round((total / len(data)) ** 0.5, 2))\n",
        "\n",
        "x = [80, 75, 74, 48, 86, 59, 63, 71, 79, 39,  \n",
        "     64, 61, 73, 64, 75, 57, 59, 63, 50, 63, \n",
        "     49, 64, 59, 57, 58, 48, 64, 61, 63, 49]\n",
        "\n",
        "print_mean(x)\n",
        "print_std(x)"
      ],
      "execution_count": null,
      "outputs": []
    },
    {
      "cell_type": "code",
      "metadata": {
        "colab": {
          "base_uri": "https://localhost:8080/",
          "height": 439
        },
        "id": "m-cOp4CrKrKT",
        "outputId": "14b02116-0002-43f8-b8f0-251ec924ee53"
      },
      "source": [
        "import matplotlib.pyplot as plt\n",
        "\n",
        "def print_freq(data):\n",
        "  width = [0, 10, 20, 30, 40, 50, 60, 70, 80, 90, 100]\n",
        "  for i in range(len(width)):\n",
        "    if i == len(width) - 1:\n",
        "      break\n",
        "\n",
        "    w1 = width[i + 1]\n",
        "    if i == len(width) - 2:\n",
        "      w2 = width[i + 1] - 1\n",
        "    else: #度数\n",
        "      w2 = width[i + 1] - 1\n",
        "    freq = 0\n",
        "    for e in data:\n",
        "      if w1 <= e and e <= w2:\n",
        "        freq = freq + 1\n",
        "    print(f\"{w1} - {w2}: {freq}\")\n",
        "\n",
        "  def show_list(data):\n",
        "    width  = [0, 10, 20, 30, 40, 50, 60, 70, 80, 90, 100]\n",
        "    plt.grid()\n",
        "    plt.hist(data, bins=width)\n",
        "    plt.show()\n",
        "\n",
        "x = [85, 71, 74, 48, 86, 59, 63, 71, 71, 39,  \n",
        "     64, 61, 73, 64, 75, 57, 59, 63, 58, 63, \n",
        "     49, 64, 59, 57, 58, 48, 64, 61, 63, 49]\n",
        "\n",
        "print_freq(x)\n",
        "show_hist(x)"
      ],
      "execution_count": null,
      "outputs": [
        {
          "output_type": "stream",
          "text": [
            "10 - 9: 0\n",
            "20 - 19: 0\n",
            "30 - 29: 0\n",
            "40 - 39: 0\n",
            "50 - 49: 0\n",
            "60 - 59: 0\n",
            "70 - 69: 0\n",
            "80 - 79: 0\n",
            "90 - 89: 0\n",
            "100 - 99: 0\n"
          ],
          "name": "stdout"
        },
        {
          "output_type": "display_data",
          "data": {
            "image/png": "[encoded data removed]",
            "text/plain": [
              "<Figure size 432x288 with 1 Axes>"
            ]
          },
          "metadata": {
            "tags": [],
            "needs_background": "light"
          }
        }
      ]
    },
    {
      "cell_type": "code",
      "metadata": {
        "colab": {
          "base_uri": "https://localhost:8080/"
        },
        "id": "6_Qt3nGyTz9L",
        "outputId": "5f9579ad-8fea-45b6-b94b-320b6fbdfd96"
      },
      "source": [
        "y = [59, 72, 64, 63, 57, 71, 62, 52, 66, 67, \n",
        "     66, 66, 73, 59, 71, 62, 61, 63, 61, 63, \n",
        "     63, 65, 64, 62, 63, 52, 64, 66, 63, 55]\n",
        "\n",
        "z = [39, 52, 29, 45, 37, 46, 25, 48, 46, 36, \n",
        "     49, 53, 64, 50, 62, 71, 82, 94, 90, 77, \n",
        "     71, 71, 82, 95, 91, 87, 73, 78, 80, 80]\n",
        "\n",
        "print_mean(y)\n",
        "print_std(y)\n",
        "\n",
        "print_mean(z)\n",
        "print_std(z)\n",
        "\n"
      ],
      "execution_count": null,
      "outputs": [
        {
          "output_type": "stream",
          "text": [
            "63\n",
            "5.01\n",
            "63\n",
            "20.31\n"
          ],
          "name": "stdout"
        }
      ]
    },
    {
      "cell_type": "code",
      "metadata": {
        "colab": {
          "base_uri": "https://localhost:8080/",
          "height": 860
        },
        "id": "RbfjWnuIURAL",
        "outputId": "07a87df7-e528-4800-fbb9-00c502210b77"
      },
      "source": [
        "print_freq(y)\n",
        "show_hist(y)\n",
        "\n",
        "print_freq(z)\n",
        "show_hist(z)"
      ],
      "execution_count": null,
      "outputs": [
        {
          "output_type": "stream",
          "text": [
            "10 - 9: 0\n",
            "20 - 19: 0\n",
            "30 - 29: 0\n",
            "40 - 39: 0\n",
            "50 - 49: 0\n",
            "60 - 59: 0\n",
            "70 - 69: 0\n",
            "80 - 79: 0\n",
            "90 - 89: 0\n",
            "100 - 99: 0\n"
          ],
          "name": "stdout"
        },
        {
          "output_type": "display_data",
          "data": {
            "image/png": "[encoded data removed]",
            "text/plain": [
              "<Figure size 432x288 with 1 Axes>"
            ]
          },
          "metadata": {
            "tags": [],
            "needs_background": "light"
          }
        },
        {
          "output_type": "stream",
          "text": [
            "10 - 9: 0\n",
            "20 - 19: 0\n",
            "30 - 29: 0\n",
            "40 - 39: 0\n",
            "50 - 49: 0\n",
            "60 - 59: 0\n",
            "70 - 69: 0\n",
            "80 - 79: 0\n",
            "90 - 89: 0\n",
            "100 - 99: 0\n"
          ],
          "name": "stdout"
        },
        {
          "output_type": "display_data",
          "data": {
            "image/png": "[encoded data removed]",
            "text/plain": [
              "<Figure size 432x288 with 1 Axes>"
            ]
          },
          "metadata": {
            "tags": [],
            "needs_background": "light"
          }
        }
      ]
    },
    {
      "cell_type": "code",
      "metadata": {
        "id": "gyLmPegVUdd8"
      },
      "source": [
        ""
      ],
      "execution_count": null,
      "outputs": []
    }
  ]
}