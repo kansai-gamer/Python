{
  "nbformat": 4,
  "nbformat_minor": 0,
  "metadata": {
    "colab": {
      "name": "numpy.ipynb",
      "provenance": [],
      "authorship_tag": "ABX9TyMXIpgHRFzCGbI0Qp31fatg"
    },
    "kernelspec": {
      "name": "python3",
      "display_name": "Python 3"
    }
  },
  "cells": [
    {
      "cell_type": "code",
      "metadata": {
        "id": "3MvqUHyZc7-8"
      },
      "source": [
        "import numpy as np"
      ],
      "execution_count": 2,
      "outputs": []
    },
    {
      "cell_type": "code",
      "metadata": {
        "colab": {
          "base_uri": "https://localhost:8080/"
        },
        "id": "0ZUqlVWBZIG5",
        "outputId": "7370da5b-1309-4c01-bf4e-690a08251cfa"
      },
      "source": [
        "a = np.array([[1, 2, 3], [4, 5, 6]])\n",
        "print(a)\n",
        "print(type(a))"
      ],
      "execution_count": 2,
      "outputs": [
        {
          "output_type": "stream",
          "text": [
            "[[1 2 3]\n",
            " [4 5 6]]\n",
            "<class 'numpy.ndarray'>\n"
          ],
          "name": "stdout"
        }
      ]
    },
    {
      "cell_type": "code",
      "metadata": {
        "colab": {
          "base_uri": "https://localhost:8080/"
        },
        "id": "FSG290eXZqEL",
        "outputId": "41b64b70-82b1-4c74-809c-005dbe94044a"
      },
      "source": [
        "a = np.array([[1, 2, 3], [4, 5, 6]])\n",
        "print(a)\n",
        "print(type(a))\n",
        "print(\"ndim:\", a.ndim)\n",
        "print(\"shape:\", a.shape)\n",
        "print(\"size:\", a.size)\n",
        "print(\"dtype\", a.dtype)"
      ],
      "execution_count": 5,
      "outputs": [
        {
          "output_type": "stream",
          "text": [
            "[[1 2 3]\n",
            " [4 5 6]]\n",
            "<class 'numpy.ndarray'>\n",
            "ndim: 2\n",
            "shape: (2, 3)\n",
            "size: 6\n",
            "dtype int64\n"
          ],
          "name": "stdout"
        }
      ]
    },
    {
      "cell_type": "code",
      "metadata": {
        "colab": {
          "base_uri": "https://localhost:8080/"
        },
        "id": "egvnEt63aLXP",
        "outputId": "e703ad16-2efa-42fe-9837-14e5078397f2"
      },
      "source": [
        "a = np.array([1, 2, 3], dtype=\"float64\")\n",
        "b = np.arange(10, 30, 5)\n",
        "c = np.linspace(10, 30, 6)\n",
        "print(a)\n",
        "print(b)\n",
        "print(c)"
      ],
      "execution_count": 6,
      "outputs": [
        {
          "output_type": "stream",
          "text": [
            "[1. 2. 3.]\n",
            "[10 15 20 25]\n",
            "[10. 14. 18. 22. 26. 30.]\n"
          ],
          "name": "stdout"
        }
      ]
    },
    {
      "cell_type": "code",
      "metadata": {
        "colab": {
          "base_uri": "https://localhost:8080/"
        },
        "id": "Pg73qsVIaydD",
        "outputId": "e47b0fe8-45c8-44c2-9a01-29d7b798b2d4"
      },
      "source": [
        "a = np.zeros([2, 3])\n",
        "b = np.ones([2, 3])\n",
        "c = np.empty([2, 3])\n",
        "\n",
        "print(a)\n",
        "print(b)\n",
        "print(c)"
      ],
      "execution_count": 7,
      "outputs": [
        {
          "output_type": "stream",
          "text": [
            "[[0. 0. 0.]\n",
            " [0. 0. 0.]]\n",
            "[[1. 1. 1.]\n",
            " [1. 1. 1.]]\n",
            "[[1. 1. 1.]\n",
            " [1. 1. 1.]]\n"
          ],
          "name": "stdout"
        }
      ]
    },
    {
      "cell_type": "code",
      "metadata": {
        "colab": {
          "base_uri": "https://localhost:8080/"
        },
        "id": "QXqeBAbrbGuX",
        "outputId": "f590cda9-14cd-4bf6-f3ca-6e8d683f9e1c"
      },
      "source": [
        "#np.random.seed(0)\n",
        "a = np.random.rand(2, 3)\n",
        "b = np.random.randn(2, 3)\n",
        "c = np.random.randint(0, 10, 5)\n",
        "\n",
        "print(a)\n",
        "print(b)\n",
        "print(c)"
      ],
      "execution_count": 12,
      "outputs": [
        {
          "output_type": "stream",
          "text": [
            "[[0.77834548 0.94957105 0.66252687]\n",
            " [0.01357164 0.6228461  0.67365963]]\n",
            "[[-0.68658948  0.01487332 -0.3756659 ]\n",
            " [-0.03822364  0.36797447 -0.0447237 ]]\n",
            "[7 2 9 2 3]\n"
          ],
          "name": "stdout"
        }
      ]
    },
    {
      "cell_type": "code",
      "metadata": {
        "colab": {
          "base_uri": "https://localhost:8080/"
        },
        "id": "s8JaLoyUeMgo",
        "outputId": "c3963a06-0824-4ad6-9c8d-f1f23aef5df0"
      },
      "source": [
        "a = np.arange(0, 6)\n",
        "b = a.reshape(2, 3)\n",
        "c = a.reshape(6, -1)\n",
        "print(a)\n",
        "print(b)\n",
        "print(c)"
      ],
      "execution_count": 23,
      "outputs": [
        {
          "output_type": "stream",
          "text": [
            "[0 1 2 3 4 5]\n",
            "[[0 1 2]\n",
            " [3 4 5]]\n",
            "[[0]\n",
            " [1]\n",
            " [2]\n",
            " [3]\n",
            " [4]\n",
            " [5]]\n"
          ],
          "name": "stdout"
        }
      ]
    },
    {
      "cell_type": "code",
      "metadata": {
        "colab": {
          "base_uri": "https://localhost:8080/"
        },
        "id": "NRJqvJZvfvRW",
        "outputId": "ff8cb904-6751-43a5-ddc0-ba6d603d49e7"
      },
      "source": [
        "a = np.arange(0, 100).reshape(10, 10)\n",
        "print(a)\n",
        "print(a[1])\n",
        "print(a[1, 1])\n",
        "print(a[1:5, 1:5])\n",
        "print(a[:, 1])"
      ],
      "execution_count": 26,
      "outputs": [
        {
          "output_type": "stream",
          "text": [
            "[[ 0  1  2  3  4  5  6  7  8  9]\n",
            " [10 11 12 13 14 15 16 17 18 19]\n",
            " [20 21 22 23 24 25 26 27 28 29]\n",
            " [30 31 32 33 34 35 36 37 38 39]\n",
            " [40 41 42 43 44 45 46 47 48 49]\n",
            " [50 51 52 53 54 55 56 57 58 59]\n",
            " [60 61 62 63 64 65 66 67 68 69]\n",
            " [70 71 72 73 74 75 76 77 78 79]\n",
            " [80 81 82 83 84 85 86 87 88 89]\n",
            " [90 91 92 93 94 95 96 97 98 99]]\n",
            "[10 11 12 13 14 15 16 17 18 19]\n",
            "11\n",
            "[[11 12 13 14]\n",
            " [21 22 23 24]\n",
            " [31 32 33 34]\n",
            " [41 42 43 44]]\n",
            "[ 1 11 21 31 41 51 61 71 81 91]\n"
          ],
          "name": "stdout"
        }
      ]
    },
    {
      "cell_type": "code",
      "metadata": {
        "colab": {
          "base_uri": "https://localhost:8080/"
        },
        "id": "w_pOMC2NhMT2",
        "outputId": "4745a0d3-6f8e-49f1-abfd-d233fa3816f7"
      },
      "source": [
        "a = np.array([1, 2, 3])\n",
        "b = np.array([10, 20, 30])\n",
        "c = 10\n",
        "print(a + b)\n",
        "print(a + c)\n",
        "print(a.dot(b))"
      ],
      "execution_count": 27,
      "outputs": [
        {
          "output_type": "stream",
          "text": [
            "[11 22 33]\n",
            "[11 12 13]\n",
            "140\n"
          ],
          "name": "stdout"
        }
      ]
    },
    {
      "cell_type": "code",
      "metadata": {
        "colab": {
          "base_uri": "https://localhost:8080/"
        },
        "id": "5Ts-oYKaisld",
        "outputId": "39e61661-4a87-4d00-a90f-d9f46be0bedd"
      },
      "source": [
        "a = np.array([80, 60, 30, 70, 40])\n",
        "print(a < 50)\n",
        "\n",
        "a[a < 50] = 0\n",
        "print(a)"
      ],
      "execution_count": 28,
      "outputs": [
        {
          "output_type": "stream",
          "text": [
            "[False False  True False  True]\n",
            "[80 60  0 70  0]\n"
          ],
          "name": "stdout"
        }
      ]
    },
    {
      "cell_type": "code",
      "metadata": {
        "colab": {
          "base_uri": "https://localhost:8080/"
        },
        "id": "sgpUZZQkjBnC",
        "outputId": "5b53a12b-8b9d-4477-87a5-a600c95d0d39"
      },
      "source": [
        "a = np.array([50, 60, 80, 60, 50])\n",
        "print(a)\n",
        "print(np.sum(a))\n",
        "print(np.average(a))\n",
        "print(np.var(a))\n",
        "print(np.std(a))"
      ],
      "execution_count": 29,
      "outputs": [
        {
          "output_type": "stream",
          "text": [
            "[50 60 80 60 50]\n",
            "300\n",
            "60.0\n",
            "120.0\n",
            "10.954451150103322\n"
          ],
          "name": "stdout"
        }
      ]
    },
    {
      "cell_type": "code",
      "metadata": {
        "id": "1PPRF6JPjWdO"
      },
      "source": [
        ""
      ],
      "execution_count": null,
      "outputs": []
    }
  ]
}