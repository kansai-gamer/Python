{
  "nbformat": 4,
  "nbformat_minor": 0,
  "metadata": {
    "colab": {
      "name": "0215.ipynb",
      "provenance": [],
      "collapsed_sections": [],
      "authorship_tag": "ABX9TyNVEcjDKaiLy2k2vsKBCIoe"
    },
    "kernelspec": {
      "name": "python3",
      "display_name": "Python 3"
    }
  },
  "cells": [
    {
      "cell_type": "code",
      "metadata": {
        "id": "E4pD15Uu3Mau"
      },
      "source": [
        "import numpy as np"
      ],
      "execution_count": 2,
      "outputs": []
    },
    {
      "cell_type": "code",
      "metadata": {
        "colab": {
          "base_uri": "https://localhost:8080/"
        },
        "id": "gY8bsDY34oRB",
        "outputId": "6ab271fb-1027-46f3-dc94-aac89211806f"
      },
      "source": [
        "x = np.arange(0, 25).reshape(5, -1)\n",
        "x"
      ],
      "execution_count": 186,
      "outputs": [
        {
          "output_type": "execute_result",
          "data": {
            "text/plain": [
              "array([[ 0,  1,  2,  3,  4],\n",
              "       [ 5,  6,  7,  8,  9],\n",
              "       [10, 11, 12, 13, 14],\n",
              "       [15, 16, 17, 18, 19],\n",
              "       [20, 21, 22, 23, 24]])"
            ]
          },
          "metadata": {
            "tags": []
          },
          "execution_count": 186
        }
      ]
    },
    {
      "cell_type": "code",
      "metadata": {
        "colab": {
          "base_uri": "https://localhost:8080/"
        },
        "id": "AwDAVtFo4x7H",
        "outputId": "48d83989-db2a-47ae-b1d2-bc7df63c59be"
      },
      "source": [
        "#1.1 変数 x を使って、次の実行結果を出力してください。\n",
        "x = np.arange(0, 5)\n",
        "x"
      ],
      "execution_count": 6,
      "outputs": [
        {
          "output_type": "execute_result",
          "data": {
            "text/plain": [
              "array([0, 1, 2, 3, 4])"
            ]
          },
          "metadata": {
            "tags": []
          },
          "execution_count": 6
        }
      ]
    },
    {
      "cell_type": "code",
      "metadata": {
        "colab": {
          "base_uri": "https://localhost:8080/"
        },
        "id": "qpuDGNtJ47vy",
        "outputId": "4a17689a-8e9e-4b30-bc3d-c537c66445d7"
      },
      "source": [
        "#1.2 変数 x を使って、次の実行結果を出力してください。\n",
        "x = np.arange(20, 25)\n",
        "x"
      ],
      "execution_count": 10,
      "outputs": [
        {
          "output_type": "execute_result",
          "data": {
            "text/plain": [
              "array([20, 21, 22, 23, 24])"
            ]
          },
          "metadata": {
            "tags": []
          },
          "execution_count": 10
        }
      ]
    },
    {
      "cell_type": "code",
      "metadata": {
        "colab": {
          "base_uri": "https://localhost:8080/"
        },
        "id": "aAkyAnql5Her",
        "outputId": "9a780e12-00ed-4c05-9960-46fdd49aec4d"
      },
      "source": [
        "#1.3 変数 x を使って、次の実行結果を出力してください。\n",
        "x = np.arange(5, 20).reshape(3, -1)\n",
        "x"
      ],
      "execution_count": 12,
      "outputs": [
        {
          "output_type": "execute_result",
          "data": {
            "text/plain": [
              "array([[ 5,  6,  7,  8,  9],\n",
              "       [10, 11, 12, 13, 14],\n",
              "       [15, 16, 17, 18, 19]])"
            ]
          },
          "metadata": {
            "tags": []
          },
          "execution_count": 12
        }
      ]
    },
    {
      "cell_type": "code",
      "metadata": {
        "colab": {
          "base_uri": "https://localhost:8080/"
        },
        "id": "Snmv6y046Ics",
        "outputId": "7f91030b-10a7-4401-e1f2-c195b1136c6f"
      },
      "source": [
        "#1.4 変数 x を使って、次の実行結果を出力してください。\n",
        "x = np.arange(0, 25 ,5)\n",
        "x"
      ],
      "execution_count": 16,
      "outputs": [
        {
          "output_type": "execute_result",
          "data": {
            "text/plain": [
              "array([ 0,  5, 10, 15, 20])"
            ]
          },
          "metadata": {
            "tags": []
          },
          "execution_count": 16
        }
      ]
    },
    {
      "cell_type": "code",
      "metadata": {
        "colab": {
          "base_uri": "https://localhost:8080/"
        },
        "id": "Dn1XdQ5e6chO",
        "outputId": "45dcd6d2-be7a-42bc-8556-8e102a82449c"
      },
      "source": [
        "#1.5 変数 x を使って、次の実行結果を出力してください。\n",
        "x = np.arange(6, 21).reshape(3, -2)\n",
        "x[:3,:3]\n",
        "#https://qiita.com/sho11hei12-1998/items/2458aa0822cc6e7268fa"
      ],
      "execution_count": 116,
      "outputs": [
        {
          "output_type": "execute_result",
          "data": {
            "text/plain": [
              "array([[ 6,  7,  8],\n",
              "       [11, 12, 13],\n",
              "       [16, 17, 18]])"
            ]
          },
          "metadata": {
            "tags": []
          },
          "execution_count": 116
        }
      ]
    },
    {
      "cell_type": "code",
      "metadata": {
        "colab": {
          "base_uri": "https://localhost:8080/"
        },
        "id": "yQYI7GhtDkLN",
        "outputId": "64aa2a46-8fd7-4a53-e7c5-0b6110d05aad"
      },
      "source": [
        "#1.6 変数 x を使って、次の実行結果を出力してください。\n",
        "x = np.arange(0, 25, 5).reshape(5, -1)\n",
        "x"
      ],
      "execution_count": 106,
      "outputs": [
        {
          "output_type": "execute_result",
          "data": {
            "text/plain": [
              "array([[ 0],\n",
              "       [ 5],\n",
              "       [10],\n",
              "       [15],\n",
              "       [20]])"
            ]
          },
          "metadata": {
            "tags": []
          },
          "execution_count": 106
        }
      ]
    },
    {
      "cell_type": "code",
      "metadata": {
        "colab": {
          "base_uri": "https://localhost:8080/"
        },
        "id": "Sv9fv7qlHcPR",
        "outputId": "8adfd0a0-f56b-4efc-bb1b-076fb8ee1911"
      },
      "source": [
        "#1.7 変数 x を使って、次の実行結果を出力してください。（NumPy配列 x の合計値を出力します）\n",
        "x = np.arange(25)\n",
        "np.sum(x)"
      ],
      "execution_count": 131,
      "outputs": [
        {
          "output_type": "execute_result",
          "data": {
            "text/plain": [
              "300"
            ]
          },
          "metadata": {
            "tags": []
          },
          "execution_count": 131
        }
      ]
    },
    {
      "cell_type": "code",
      "metadata": {
        "colab": {
          "base_uri": "https://localhost:8080/"
        },
        "id": "USO5H_8nITn8",
        "outputId": "17dac8c8-6e35-4630-b6ea-d4ec94489b0a"
      },
      "source": [
        "#1.8 変数 x を使って、次の実行結果を出力してください。（NumPy配列 x の合計値（行方向）を出力します）\n",
        "np.sum(x, axis=0)"
      ],
      "execution_count": 191,
      "outputs": [
        {
          "output_type": "execute_result",
          "data": {
            "text/plain": [
              "array([50, 55, 60, 65, 70])"
            ]
          },
          "metadata": {
            "tags": []
          },
          "execution_count": 191
        }
      ]
    },
    {
      "cell_type": "code",
      "metadata": {
        "colab": {
          "base_uri": "https://localhost:8080/"
        },
        "id": "cctAXjLTOunn",
        "outputId": "2cde98d0-5c21-4b1b-dc64-e9465641c85c"
      },
      "source": [
        "#1.9 変数 x を使って、次の実行結果を出力してください。（NumPy配列 x の合計値（列方向）を出力します）\n",
        "np.sum(x, axis=1)"
      ],
      "execution_count": 192,
      "outputs": [
        {
          "output_type": "execute_result",
          "data": {
            "text/plain": [
              "array([ 10,  35,  60,  85, 110])"
            ]
          },
          "metadata": {
            "tags": []
          },
          "execution_count": 192
        }
      ]
    },
    {
      "cell_type": "code",
      "metadata": {
        "colab": {
          "base_uri": "https://localhost:8080/"
        },
        "id": "Jt4EwfE7PCTD",
        "outputId": "7b50892f-9cd9-42cc-8e02-62347285f93a"
      },
      "source": [
        "#1.10 次の実行結果となるようにPythonプログラムを作成してください。\n",
        "x = np.zeros((3, 3),dtype=int)\n",
        "x"
      ],
      "execution_count": 219,
      "outputs": [
        {
          "output_type": "execute_result",
          "data": {
            "text/plain": [
              "array([[0, 0, 0],\n",
              "       [0, 0, 0],\n",
              "       [0, 0, 0]])"
            ]
          },
          "metadata": {
            "tags": []
          },
          "execution_count": 219
        }
      ]
    },
    {
      "cell_type": "code",
      "metadata": {
        "colab": {
          "base_uri": "https://localhost:8080/"
        },
        "id": "bi38EwHlQojY",
        "outputId": "7745a0b3-0b3e-4e85-c99f-1ab48cdbdfd1"
      },
      "source": [
        "#1.11 次の実行結果となるようにPythonプログラムを作成してください。\n",
        "x = np.ones((3, 3),dtype=int)\n",
        "x"
      ],
      "execution_count": 221,
      "outputs": [
        {
          "output_type": "execute_result",
          "data": {
            "text/plain": [
              "array([[1, 1, 1],\n",
              "       [1, 1, 1],\n",
              "       [1, 1, 1]])"
            ]
          },
          "metadata": {
            "tags": []
          },
          "execution_count": 221
        }
      ]
    },
    {
      "cell_type": "code",
      "metadata": {
        "colab": {
          "base_uri": "https://localhost:8080/"
        },
        "id": "nkAS_TOzRFuF",
        "outputId": "4c486166-3c74-4f95-cdf0-dc1d53eee157"
      },
      "source": [
        "#1.12 次の実行結果となるようにPythonプログラムを作成してください。\n",
        "np.full(9, 2).reshape(3, -1)\n",
        "#https://note.nkmk.me/python-numpy-zeros-ones-full/"
      ],
      "execution_count": 233,
      "outputs": [
        {
          "output_type": "execute_result",
          "data": {
            "text/plain": [
              "array([[2, 2, 2],\n",
              "       [2, 2, 2],\n",
              "       [2, 2, 2]])"
            ]
          },
          "metadata": {
            "tags": []
          },
          "execution_count": 233
        }
      ]
    },
    {
      "cell_type": "code",
      "metadata": {
        "colab": {
          "base_uri": "https://localhost:8080/"
        },
        "id": "k3D8f_v3R9pk",
        "outputId": "9818a5af-3a19-4cbd-cb48-3d4c0de3cc62"
      },
      "source": [
        "#1.13 次の実行結果となるようにPythonプログラムを作成してください。（NumPy配列の要素は0〜9までの乱数とします）\n",
        "np.random.randint(0, 10, 9).reshape(3, -1)"
      ],
      "execution_count": 246,
      "outputs": [
        {
          "output_type": "execute_result",
          "data": {
            "text/plain": [
              "array([[3, 3, 4],\n",
              "       [6, 5, 0],\n",
              "       [4, 2, 5]])"
            ]
          },
          "metadata": {
            "tags": []
          },
          "execution_count": 246
        }
      ]
    },
    {
      "cell_type": "code",
      "metadata": {
        "colab": {
          "base_uri": "https://localhost:8080/"
        },
        "id": "KbsVCRcNTj2m",
        "outputId": "2859a28e-7f12-43ca-832d-ea1b93ddd6cd"
      },
      "source": [
        "#1.14 次の実行結果となるようにPythonプログラムを作成してください。\n",
        "scores = np.array([76, 53, 54, 49, 68, 36, 77, 52, 63, 57])\n",
        "std = np.std(scores)\n",
        "mean = np.mean(scores)\n",
        "scores2 = (scores - mean) / std\n",
        "scores2"
      ],
      "execution_count": 257,
      "outputs": [
        {
          "output_type": "execute_result",
          "data": {
            "text/plain": [
              "array([ 1.45304539, -0.45667141, -0.37364024, -0.78879607,  0.78879607,\n",
              "       -1.86820122,  1.53607656, -0.53970257,  0.37364024, -0.12454675])"
            ]
          },
          "metadata": {
            "tags": []
          },
          "execution_count": 257
        }
      ]
    },
    {
      "cell_type": "code",
      "metadata": {
        "colab": {
          "base_uri": "https://localhost:8080/"
        },
        "id": "5a-EmesTWDaN",
        "outputId": "73379430-5a4f-4b70-978d-9629c8d1d56f"
      },
      "source": [
        "#1.15 次の実行結果となるようにPythonプログラムを作成してください。\n",
        "scores = np.array([76, 53, 54, 49, 68, 36, 77, 52, 63, 57])\n",
        "std = np.std(scores)\n",
        "mean = np.mean(scores)\n",
        "scores2 = (scores - mean) / std * 10 + 50\n",
        "np.round(scores2)\n",
        "#https://www.sejuku.net/blog/70052"
      ],
      "execution_count": 259,
      "outputs": [
        {
          "output_type": "execute_result",
          "data": {
            "text/plain": [
              "array([65., 45., 46., 42., 58., 31., 65., 45., 54., 49.])"
            ]
          },
          "metadata": {
            "tags": []
          },
          "execution_count": 259
        }
      ]
    },
    {
      "cell_type": "markdown",
      "metadata": {
        "id": "MUxLqhGaWxzp"
      },
      "source": [
        "#2 matplotlib"
      ]
    },
    {
      "cell_type": "code",
      "metadata": {
        "colab": {
          "base_uri": "https://localhost:8080/",
          "height": 265
        },
        "id": "0sKluVBDW2mV",
        "outputId": "de4a0a30-8e3e-48ec-832f-e5ff92fc627c"
      },
      "source": [
        "#2.1 次の実行結果となるようにPythonプログラムを作成してください。\n",
        "import numpy as np\n",
        "import matplotlib.pyplot as plt\n",
        "\n",
        "x = np.linspace(-4, 4, 100)\n",
        "y = -2 * x + 10\n",
        "\n",
        "plt.grid()\n",
        "plt.plot(x, y)\n",
        "plt.show()"
      ],
      "execution_count": 268,
      "outputs": [
        {
          "output_type": "display_data",
          "data": {
            "image/png": "[encoded data removed]",
            "text/plain": [
              "<Figure size 432x288 with 1 Axes>"
            ]
          },
          "metadata": {
            "tags": [],
            "needs_background": "light"
          }
        }
      ]
    },
    {
      "cell_type": "code",
      "metadata": {
        "colab": {
          "base_uri": "https://localhost:8080/",
          "height": 265
        },
        "id": "fOZIH6N4ZrX5",
        "outputId": "5bc26394-2949-4b48-eb58-d2dfda97ea63"
      },
      "source": [
        "#2.2 次の実行結果となるようにPythonプログラムを作成してください。\n",
        "x = np.linspace(-4, 4, 100)\n",
        "y = x ** 2\n",
        "\n",
        "plt.plot(x, -y)\n",
        "plt.grid()\n",
        "plt.show()"
      ],
      "execution_count": 271,
      "outputs": [
        {
          "output_type": "display_data",
          "data": {
            "image/png": "[encoded data removed]",
            "text/plain": [
              "<Figure size 432x288 with 1 Axes>"
            ]
          },
          "metadata": {
            "tags": [],
            "needs_background": "light"
          }
        }
      ]
    },
    {
      "cell_type": "code",
      "metadata": {
        "colab": {
          "base_uri": "https://localhost:8080/",
          "height": 265
        },
        "id": "wO00ZRAgahfS",
        "outputId": "92e840a7-7b9f-4408-c4e7-d61d8e3cab1c"
      },
      "source": [
        "#2.3 次の実行結果となるようにPythonプログラムを作成してください。\n",
        "x = np.linspace(-4, 4, 100)\n",
        "\n",
        "plt.plot(x)\n",
        "plt.grid()\n",
        "plt.show()"
      ],
      "execution_count": 273,
      "outputs": [
        {
          "output_type": "display_data",
          "data": {
            "image/png": "[encoded data removed]",
            "text/plain": [
              "<Figure size 432x288 with 1 Axes>"
            ]
          },
          "metadata": {
            "tags": [],
            "needs_background": "light"
          }
        }
      ]
    }
  ]
}