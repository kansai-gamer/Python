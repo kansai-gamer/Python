{
  "nbformat": 4,
  "nbformat_minor": 0,
  "metadata": {
    "colab": {
      "name": "11_ex.ipynb",
      "provenance": [],
      "collapsed_sections": [],
      "authorship_tag": "ABX9TyM3wPm90Zuwn5JZDCfnuFsL",
      "include_colab_link": true
    },
    "kernelspec": {
      "name": "python3",
      "display_name": "Python 3"
    }
  },
  "cells": [
    {
      "cell_type": "markdown",
      "metadata": {
        "id": "view-in-github",
        "colab_type": "text"
      },
      "source": [
        "<a href=\"https://colab.research.google.com/github/kansai-pg/Python/blob/master/11_ex.ipynb\" target=\"_parent\"><img src=\"https://colab.research.google.com/assets/colab-badge.svg\" alt=\"Open In Colab\"/></a>"
      ]
    },
    {
      "cell_type": "code",
      "metadata": {
        "colab": {
          "base_uri": "https://localhost:8080/"
        },
        "id": "YYHb2QmEqeQf",
        "outputId": "5bf90e73-6606-48fa-fcf0-c5039c2e6805"
      },
      "source": [
        "#1.1 wgetコマンド以下のURLからでファイル（mytype.csv）をダウンロードしてください。\n",
        "\n",
        "!wget https://gist.githubusercontent.com/murayama333/11171cac80fddfc1ef0f5ad753ae0076/raw/3c79d9ddbfa5fc3e622f37631f95602fe1da1266/mytype.csv"
      ],
      "execution_count": null,
      "outputs": [
        {
          "output_type": "stream",
          "text": [
            "--2021-03-01 04:35:00--  https://gist.githubusercontent.com/murayama333/11171cac80fddfc1ef0f5ad753ae0076/raw/3c79d9ddbfa5fc3e622f37631f95602fe1da1266/mytype.csv\n",
            "Resolving gist.githubusercontent.com (gist.githubusercontent.com)... 185.199.108.133, 185.199.109.133, 185.199.110.133, ...\n",
            "Connecting to gist.githubusercontent.com (gist.githubusercontent.com)|185.199.108.133|:443... connected.\n",
            "HTTP request sent, awaiting response... 200 OK\n",
            "Length: 11558 (11K) [text/plain]\n",
            "Saving to: ‘mytype.csv’\n",
            "\n",
            "mytype.csv          100%[===================>]  11.29K  --.-KB/s    in 0s      \n",
            "\n",
            "2021-03-01 04:35:01 (89.5 MB/s) - ‘mytype.csv’ saved [11558/11558]\n",
            "\n"
          ],
          "name": "stdout"
        }
      ]
    },
    {
      "cell_type": "code",
      "metadata": {
        "id": "YaTiKzlrqryf"
      },
      "source": [
        "import pandas as pd\n",
        "import matplotlib.pyplot as plt"
      ],
      "execution_count": null,
      "outputs": []
    },
    {
      "cell_type": "code",
      "metadata": {
        "colab": {
          "base_uri": "https://localhost:8080/",
          "height": 419
        },
        "id": "SsN1YfhyrE3W",
        "outputId": "ea987c58-711b-4c15-fd68-cc5692f77e0d"
      },
      "source": [
        "#1.2 pandasのDataFrameで mytype.csv を表示してください。\n",
        "mytype_df = pd.read_csv(\"mytype.csv\")\n",
        "mytype_df"
      ],
      "execution_count": null,
      "outputs": [
        {
          "output_type": "execute_result",
          "data": {
            "text/html": [
              "<div>\n",
              "<style scoped>\n",
              "    .dataframe tbody tr th:only-of-type {\n",
              "        vertical-align: middle;\n",
              "    }\n",
              "\n",
              "    .dataframe tbody tr th {\n",
              "        vertical-align: top;\n",
              "    }\n",
              "\n",
              "    .dataframe thead th {\n",
              "        text-align: right;\n",
              "    }\n",
              "</style>\n",
              "<table border=\"1\" class=\"dataframe\">\n",
              "  <thead>\n",
              "    <tr style=\"text-align: right;\">\n",
              "      <th></th>\n",
              "      <th>f1</th>\n",
              "      <th>f2</th>\n",
              "      <th>type</th>\n",
              "    </tr>\n",
              "  </thead>\n",
              "  <tbody>\n",
              "    <tr>\n",
              "      <th>0</th>\n",
              "      <td>2.286632</td>\n",
              "      <td>5.994033</td>\n",
              "      <td>0</td>\n",
              "    </tr>\n",
              "    <tr>\n",
              "      <th>1</th>\n",
              "      <td>4.184063</td>\n",
              "      <td>6.213322</td>\n",
              "      <td>0</td>\n",
              "    </tr>\n",
              "    <tr>\n",
              "      <th>2</th>\n",
              "      <td>8.176970</td>\n",
              "      <td>13.296028</td>\n",
              "      <td>1</td>\n",
              "    </tr>\n",
              "    <tr>\n",
              "      <th>3</th>\n",
              "      <td>3.020003</td>\n",
              "      <td>5.302735</td>\n",
              "      <td>0</td>\n",
              "    </tr>\n",
              "    <tr>\n",
              "      <th>4</th>\n",
              "      <td>3.471054</td>\n",
              "      <td>6.921841</td>\n",
              "      <td>0</td>\n",
              "    </tr>\n",
              "    <tr>\n",
              "      <th>...</th>\n",
              "      <td>...</td>\n",
              "      <td>...</td>\n",
              "      <td>...</td>\n",
              "    </tr>\n",
              "    <tr>\n",
              "      <th>295</th>\n",
              "      <td>1.693205</td>\n",
              "      <td>7.712895</td>\n",
              "      <td>0</td>\n",
              "    </tr>\n",
              "    <tr>\n",
              "      <th>296</th>\n",
              "      <td>9.860533</td>\n",
              "      <td>11.758099</td>\n",
              "      <td>1</td>\n",
              "    </tr>\n",
              "    <tr>\n",
              "      <th>297</th>\n",
              "      <td>4.805633</td>\n",
              "      <td>9.018470</td>\n",
              "      <td>0</td>\n",
              "    </tr>\n",
              "    <tr>\n",
              "      <th>298</th>\n",
              "      <td>9.143350</td>\n",
              "      <td>12.887626</td>\n",
              "      <td>1</td>\n",
              "    </tr>\n",
              "    <tr>\n",
              "      <th>299</th>\n",
              "      <td>11.186263</td>\n",
              "      <td>11.773378</td>\n",
              "      <td>1</td>\n",
              "    </tr>\n",
              "  </tbody>\n",
              "</table>\n",
              "<p>300 rows × 3 columns</p>\n",
              "</div>"
            ],
            "text/plain": [
              "            f1         f2  type\n",
              "0     2.286632   5.994033     0\n",
              "1     4.184063   6.213322     0\n",
              "2     8.176970  13.296028     1\n",
              "3     3.020003   5.302735     0\n",
              "4     3.471054   6.921841     0\n",
              "..         ...        ...   ...\n",
              "295   1.693205   7.712895     0\n",
              "296   9.860533  11.758099     1\n",
              "297   4.805633   9.018470     0\n",
              "298   9.143350  12.887626     1\n",
              "299  11.186263  11.773378     1\n",
              "\n",
              "[300 rows x 3 columns]"
            ]
          },
          "metadata": {
            "tags": []
          },
          "execution_count": 4
        }
      ]
    },
    {
      "cell_type": "code",
      "metadata": {
        "colab": {
          "base_uri": "https://localhost:8080/",
          "height": 296
        },
        "id": "jePnv703vmYV",
        "outputId": "d9ddcb9d-216a-4258-8fce-ac1a755594b3"
      },
      "source": [
        "#1.3 DataFrame（mytype_df）の f1 と f2 の散布図を表示してください。\n",
        "mytype_df.plot.scatter(\"f1\", \"f2\")"
      ],
      "execution_count": null,
      "outputs": [
        {
          "output_type": "execute_result",
          "data": {
            "text/plain": [
              "<matplotlib.axes._subplots.AxesSubplot at 0x7f9b6be30f10>"
            ]
          },
          "metadata": {
            "tags": []
          },
          "execution_count": 5
        },
        {
          "output_type": "display_data",
          "data": {
            "image/png": "[encoded data removed]",
            "text/plain": [
              "<Figure size 432x288 with 1 Axes>"
            ]
          },
          "metadata": {
            "tags": [],
            "needs_background": "light"
          }
        }
      ]
    },
    {
      "cell_type": "code",
      "metadata": {
        "colab": {
          "base_uri": "https://localhost:8080/",
          "height": 296
        },
        "id": "QVn_J1C_sGpU",
        "outputId": "a37e296c-0d09-45e3-b738-59c95f8990ed"
      },
      "source": [
        "#1.4 DataFrame（mytype_df）の f1 と f2 の散布図を表示してください。ただし、type == 0 のデータは赤色、type == 1 のデータは青色で表示してください。\n",
        "ax = mytype_df[mytype_df[\"type\"] == 0].plot.scatter(\"f1\", \"f2\", color=\"red\")\n",
        "mytype_df[mytype_df[\"type\"] == 1].plot.scatter(\"f1\", \"f2\", color=\"blue\", ax=ax)"
      ],
      "execution_count": null,
      "outputs": [
        {
          "output_type": "execute_result",
          "data": {
            "text/plain": [
              "<matplotlib.axes._subplots.AxesSubplot at 0x7f9b6920b990>"
            ]
          },
          "metadata": {
            "tags": []
          },
          "execution_count": 6
        },
        {
          "output_type": "display_data",
          "data": {
            "image/png": "[encoded data removed]",
            "text/plain": [
              "<Figure size 432x288 with 1 Axes>"
            ]
          },
          "metadata": {
            "tags": [],
            "needs_background": "light"
          }
        }
      ]
    },
    {
      "cell_type": "code",
      "metadata": {
        "id": "C1a6Ib3oxMKs"
      },
      "source": [
        "from sklearn.model_selection import train_test_split"
      ],
      "execution_count": null,
      "outputs": []
    },
    {
      "cell_type": "code",
      "metadata": {
        "colab": {
          "base_uri": "https://localhost:8080/"
        },
        "id": "ercah8Hawctt",
        "outputId": "8e6ed611-b784-4fa1-b7da-5896fcc83601"
      },
      "source": [
        "#1.5 DataFrame（mytype_df）のデータを訓練データ75件、テストデータ25件に分割してください。\n",
        "x_train, x_test, y_train, y_test = train_test_split(mytype_df[[\"f1\", \"f2\"]].values, mytype_df[\"type\"].values, random_state=1)\n",
        "\n",
        "print(x_train.shape)\n",
        "print(x_test.shape)\n",
        "print(y_train.shape)\n",
        "print(y_test.shape)"
      ],
      "execution_count": null,
      "outputs": [
        {
          "output_type": "stream",
          "text": [
            "(225, 2)\n",
            "(75, 2)\n",
            "(225,)\n",
            "(75,)\n"
          ],
          "name": "stdout"
        }
      ]
    },
    {
      "cell_type": "code",
      "metadata": {
        "id": "zbFZpPCBxhU1"
      },
      "source": [
        "from sklearn.linear_model import LogisticRegression"
      ],
      "execution_count": null,
      "outputs": []
    },
    {
      "cell_type": "code",
      "metadata": {
        "colab": {
          "base_uri": "https://localhost:8080/"
        },
        "id": "kcWYVWiLxPfc",
        "outputId": "1dd6684c-1ecd-4cfa-f942-186173ffe9e8"
      },
      "source": [
        "#1.6 ロジスティック回帰によって、DataFrame（mytype_df）の訓練データで学習して、係数と切片を表示してください。\n",
        "clf = LogisticRegression()\n",
        "clf.fit(x_train, y_train)\n",
        "\n",
        "print(clf.coef_)\n",
        "print(clf.intercept_)"
      ],
      "execution_count": null,
      "outputs": [
        {
          "output_type": "stream",
          "text": [
            "[[1.86005888 1.04551713]]\n",
            "[-21.10019839]\n"
          ],
          "name": "stdout"
        }
      ]
    },
    {
      "cell_type": "code",
      "metadata": {
        "colab": {
          "base_uri": "https://localhost:8080/"
        },
        "id": "bjIgPIggETOp",
        "outputId": "dba3f4e8-a9f5-454b-a5ad-f946eb9f27c4"
      },
      "source": [
        "#1.7 以下のデータ sample_x を使って、結果を推論してください。\n",
        "sample_x = [[5.5, 4.2], [12.5, 10.8]]\n",
        "\n",
        "clf.predict(sample_x)"
      ],
      "execution_count": null,
      "outputs": [
        {
          "output_type": "execute_result",
          "data": {
            "text/plain": [
              "array([0, 1])"
            ]
          },
          "metadata": {
            "tags": []
          },
          "execution_count": 11
        }
      ]
    },
    {
      "cell_type": "code",
      "metadata": {
        "colab": {
          "base_uri": "https://localhost:8080/"
        },
        "id": "nsPEGqEWFFDx",
        "outputId": "b22493e7-5ce5-4b60-a611-ea95b58aaa9a"
      },
      "source": [
        "#1.8 テストデータを使ってモデルを評価して、正答率（Accuracy） を表示してください。\n",
        "clf.score(x_test, y_test)\n",
        "#https://qiita.com/ekzemplaro/items/2a7ab30ab577b122c554"
      ],
      "execution_count": null,
      "outputs": [
        {
          "output_type": "execute_result",
          "data": {
            "text/plain": [
              "1.0"
            ]
          },
          "metadata": {
            "tags": []
          },
          "execution_count": 30
        }
      ]
    },
    {
      "cell_type": "code",
      "metadata": {
        "id": "Y-Nt64OzJdW5"
      },
      "source": [
        "from mlxtend.plotting import plot_decision_regions"
      ],
      "execution_count": null,
      "outputs": []
    },
    {
      "cell_type": "code",
      "metadata": {
        "colab": {
          "base_uri": "https://localhost:8080/",
          "height": 336
        },
        "id": "Psrb_GZUJf5k",
        "outputId": "1bd0540c-9840-4ea9-ce40-cbf2c1240a30"
      },
      "source": [
        "#1.9 mlextend を使って散布図に境界線を描画してください。\n",
        "plot_decision_regions(x_train, y_train, clf=clf)\n",
        "#https://qiita.com/altescy/items/60a6def66f13267f6347"
      ],
      "execution_count": null,
      "outputs": [
        {
          "output_type": "stream",
          "text": [
            "/usr/local/lib/python3.7/dist-packages/mlxtend/plotting/decision_regions.py:244: MatplotlibDeprecationWarning: Passing unsupported keyword arguments to axis() will raise a TypeError in 3.3.\n",
            "  ax.axis(xmin=xx.min(), xmax=xx.max(), y_min=yy.min(), y_max=yy.max())\n"
          ],
          "name": "stderr"
        },
        {
          "output_type": "execute_result",
          "data": {
            "text/plain": [
              "<matplotlib.axes._subplots.AxesSubplot at 0x7f9b5650c990>"
            ]
          },
          "metadata": {
            "tags": []
          },
          "execution_count": 34
        },
        {
          "output_type": "display_data",
          "data": {
            "image/png": "[encoded data removed]",
            "text/plain": [
              "<Figure size 432x288 with 1 Axes>"
            ]
          },
          "metadata": {
            "tags": [],
            "needs_background": "light"
          }
        }
      ]
    },
    {
      "cell_type": "markdown",
      "metadata": {
        "id": "oP-uPEy5J3ET"
      },
      "source": [
        "#演習2 k−NN法"
      ]
    },
    {
      "cell_type": "code",
      "metadata": {
        "colab": {
          "base_uri": "https://localhost:8080/"
        },
        "id": "9VQvTvjbJ8eD",
        "outputId": "cc99e193-6f91-40d4-cb5d-70bfa115c9d8"
      },
      "source": [
        "#2.1 wgetコマンド以下のURLからでファイル（sepal_iris.csv）をダウンロードしてください\n",
        "!wget https://gist.githubusercontent.com/murayama333/85cf39da7271abc8506118a6796d52a5/raw/478374786d259ed3d341ea06b59fec73f27129a0/sepal_iris.csv"
      ],
      "execution_count": null,
      "outputs": [
        {
          "output_type": "stream",
          "text": [
            "--2021-03-01 04:59:57--  https://gist.githubusercontent.com/murayama333/85cf39da7271abc8506118a6796d52a5/raw/478374786d259ed3d341ea06b59fec73f27129a0/sepal_iris.csv\n",
            "Resolving gist.githubusercontent.com (gist.githubusercontent.com)... 185.199.109.133, 185.199.110.133, 185.199.108.133, ...\n",
            "Connecting to gist.githubusercontent.com (gist.githubusercontent.com)|185.199.109.133|:443... connected.\n",
            "HTTP request sent, awaiting response... 200 OK\n",
            "Length: 1123 (1.1K) [text/plain]\n",
            "Saving to: ‘sepal_iris.csv’\n",
            "\n",
            "\rsepal_iris.csv        0%[                    ]       0  --.-KB/s               \rsepal_iris.csv      100%[===================>]   1.10K  --.-KB/s    in 0s      \n",
            "\n",
            "2021-03-01 04:59:57 (75.4 MB/s) - ‘sepal_iris.csv’ saved [1123/1123]\n",
            "\n"
          ],
          "name": "stdout"
        }
      ]
    },
    {
      "cell_type": "code",
      "metadata": {
        "colab": {
          "base_uri": "https://localhost:8080/",
          "height": 419
        },
        "id": "Xlv6t1xgKPqm",
        "outputId": "79826c21-67b2-44b4-e08e-312f6730a345"
      },
      "source": [
        "iris_df = pd.read_csv(\"sepal_iris.csv\")\n",
        "iris_df"
      ],
      "execution_count": null,
      "outputs": [
        {
          "output_type": "execute_result",
          "data": {
            "text/html": [
              "<div>\n",
              "<style scoped>\n",
              "    .dataframe tbody tr th:only-of-type {\n",
              "        vertical-align: middle;\n",
              "    }\n",
              "\n",
              "    .dataframe tbody tr th {\n",
              "        vertical-align: top;\n",
              "    }\n",
              "\n",
              "    .dataframe thead th {\n",
              "        text-align: right;\n",
              "    }\n",
              "</style>\n",
              "<table border=\"1\" class=\"dataframe\">\n",
              "  <thead>\n",
              "    <tr style=\"text-align: right;\">\n",
              "      <th></th>\n",
              "      <th>length_mm</th>\n",
              "      <th>width_cm</th>\n",
              "      <th>cls</th>\n",
              "    </tr>\n",
              "  </thead>\n",
              "  <tbody>\n",
              "    <tr>\n",
              "      <th>0</th>\n",
              "      <td>51.0</td>\n",
              "      <td>3.5</td>\n",
              "      <td>0</td>\n",
              "    </tr>\n",
              "    <tr>\n",
              "      <th>1</th>\n",
              "      <td>49.0</td>\n",
              "      <td>3.0</td>\n",
              "      <td>0</td>\n",
              "    </tr>\n",
              "    <tr>\n",
              "      <th>2</th>\n",
              "      <td>47.0</td>\n",
              "      <td>3.2</td>\n",
              "      <td>0</td>\n",
              "    </tr>\n",
              "    <tr>\n",
              "      <th>3</th>\n",
              "      <td>46.0</td>\n",
              "      <td>3.1</td>\n",
              "      <td>0</td>\n",
              "    </tr>\n",
              "    <tr>\n",
              "      <th>4</th>\n",
              "      <td>50.0</td>\n",
              "      <td>3.6</td>\n",
              "      <td>0</td>\n",
              "    </tr>\n",
              "    <tr>\n",
              "      <th>...</th>\n",
              "      <td>...</td>\n",
              "      <td>...</td>\n",
              "      <td>...</td>\n",
              "    </tr>\n",
              "    <tr>\n",
              "      <th>95</th>\n",
              "      <td>57.0</td>\n",
              "      <td>3.0</td>\n",
              "      <td>1</td>\n",
              "    </tr>\n",
              "    <tr>\n",
              "      <th>96</th>\n",
              "      <td>57.0</td>\n",
              "      <td>2.9</td>\n",
              "      <td>1</td>\n",
              "    </tr>\n",
              "    <tr>\n",
              "      <th>97</th>\n",
              "      <td>62.0</td>\n",
              "      <td>2.9</td>\n",
              "      <td>1</td>\n",
              "    </tr>\n",
              "    <tr>\n",
              "      <th>98</th>\n",
              "      <td>51.0</td>\n",
              "      <td>2.5</td>\n",
              "      <td>1</td>\n",
              "    </tr>\n",
              "    <tr>\n",
              "      <th>99</th>\n",
              "      <td>57.0</td>\n",
              "      <td>2.8</td>\n",
              "      <td>1</td>\n",
              "    </tr>\n",
              "  </tbody>\n",
              "</table>\n",
              "<p>100 rows × 3 columns</p>\n",
              "</div>"
            ],
            "text/plain": [
              "    length_mm  width_cm  cls\n",
              "0        51.0       3.5    0\n",
              "1        49.0       3.0    0\n",
              "2        47.0       3.2    0\n",
              "3        46.0       3.1    0\n",
              "4        50.0       3.6    0\n",
              "..        ...       ...  ...\n",
              "95       57.0       3.0    1\n",
              "96       57.0       2.9    1\n",
              "97       62.0       2.9    1\n",
              "98       51.0       2.5    1\n",
              "99       57.0       2.8    1\n",
              "\n",
              "[100 rows x 3 columns]"
            ]
          },
          "metadata": {
            "tags": []
          },
          "execution_count": 38
        }
      ]
    },
    {
      "cell_type": "code",
      "metadata": {
        "colab": {
          "base_uri": "https://localhost:8080/",
          "height": 419
        },
        "id": "71rudMPrN1Vb",
        "outputId": "72787eb9-0397-4550-86d9-75c87d3490cc"
      },
      "source": [
        "mm = iris_df[\"length_mm\"]\n",
        "convert = mm / 10\n",
        "iris_df['length_cm'] = convert\n",
        "iris_df\n",
        "#https://onecompiler.com/posts/3thnszfx8/python-program-to-convert-millimeters-into-centimeters"
      ],
      "execution_count": null,
      "outputs": [
        {
          "output_type": "execute_result",
          "data": {
            "text/html": [
              "<div>\n",
              "<style scoped>\n",
              "    .dataframe tbody tr th:only-of-type {\n",
              "        vertical-align: middle;\n",
              "    }\n",
              "\n",
              "    .dataframe tbody tr th {\n",
              "        vertical-align: top;\n",
              "    }\n",
              "\n",
              "    .dataframe thead th {\n",
              "        text-align: right;\n",
              "    }\n",
              "</style>\n",
              "<table border=\"1\" class=\"dataframe\">\n",
              "  <thead>\n",
              "    <tr style=\"text-align: right;\">\n",
              "      <th></th>\n",
              "      <th>length_mm</th>\n",
              "      <th>width_cm</th>\n",
              "      <th>cls</th>\n",
              "      <th>length_cm</th>\n",
              "    </tr>\n",
              "  </thead>\n",
              "  <tbody>\n",
              "    <tr>\n",
              "      <th>0</th>\n",
              "      <td>51.0</td>\n",
              "      <td>3.5</td>\n",
              "      <td>0</td>\n",
              "      <td>5.1</td>\n",
              "    </tr>\n",
              "    <tr>\n",
              "      <th>1</th>\n",
              "      <td>49.0</td>\n",
              "      <td>3.0</td>\n",
              "      <td>0</td>\n",
              "      <td>4.9</td>\n",
              "    </tr>\n",
              "    <tr>\n",
              "      <th>2</th>\n",
              "      <td>47.0</td>\n",
              "      <td>3.2</td>\n",
              "      <td>0</td>\n",
              "      <td>4.7</td>\n",
              "    </tr>\n",
              "    <tr>\n",
              "      <th>3</th>\n",
              "      <td>46.0</td>\n",
              "      <td>3.1</td>\n",
              "      <td>0</td>\n",
              "      <td>4.6</td>\n",
              "    </tr>\n",
              "    <tr>\n",
              "      <th>4</th>\n",
              "      <td>50.0</td>\n",
              "      <td>3.6</td>\n",
              "      <td>0</td>\n",
              "      <td>5.0</td>\n",
              "    </tr>\n",
              "    <tr>\n",
              "      <th>...</th>\n",
              "      <td>...</td>\n",
              "      <td>...</td>\n",
              "      <td>...</td>\n",
              "      <td>...</td>\n",
              "    </tr>\n",
              "    <tr>\n",
              "      <th>95</th>\n",
              "      <td>57.0</td>\n",
              "      <td>3.0</td>\n",
              "      <td>1</td>\n",
              "      <td>5.7</td>\n",
              "    </tr>\n",
              "    <tr>\n",
              "      <th>96</th>\n",
              "      <td>57.0</td>\n",
              "      <td>2.9</td>\n",
              "      <td>1</td>\n",
              "      <td>5.7</td>\n",
              "    </tr>\n",
              "    <tr>\n",
              "      <th>97</th>\n",
              "      <td>62.0</td>\n",
              "      <td>2.9</td>\n",
              "      <td>1</td>\n",
              "      <td>6.2</td>\n",
              "    </tr>\n",
              "    <tr>\n",
              "      <th>98</th>\n",
              "      <td>51.0</td>\n",
              "      <td>2.5</td>\n",
              "      <td>1</td>\n",
              "      <td>5.1</td>\n",
              "    </tr>\n",
              "    <tr>\n",
              "      <th>99</th>\n",
              "      <td>57.0</td>\n",
              "      <td>2.8</td>\n",
              "      <td>1</td>\n",
              "      <td>5.7</td>\n",
              "    </tr>\n",
              "  </tbody>\n",
              "</table>\n",
              "<p>100 rows × 4 columns</p>\n",
              "</div>"
            ],
            "text/plain": [
              "    length_mm  width_cm  cls  length_cm\n",
              "0        51.0       3.5    0        5.1\n",
              "1        49.0       3.0    0        4.9\n",
              "2        47.0       3.2    0        4.7\n",
              "3        46.0       3.1    0        4.6\n",
              "4        50.0       3.6    0        5.0\n",
              "..        ...       ...  ...        ...\n",
              "95       57.0       3.0    1        5.7\n",
              "96       57.0       2.9    1        5.7\n",
              "97       62.0       2.9    1        6.2\n",
              "98       51.0       2.5    1        5.1\n",
              "99       57.0       2.8    1        5.7\n",
              "\n",
              "[100 rows x 4 columns]"
            ]
          },
          "metadata": {
            "tags": []
          },
          "execution_count": 43
        }
      ]
    },
    {
      "cell_type": "code",
      "metadata": {
        "colab": {
          "base_uri": "https://localhost:8080/",
          "height": 300
        },
        "id": "AMYt8b7HPdU2",
        "outputId": "5d3be207-3c1e-4b41-e01c-30e7c137747b"
      },
      "source": [
        "#2.4 DataFrame（iris_df）の length_cm と width_cm の散布図を表示してください。ただし cls == 0 のデータは赤色、cls == 1 のデータは青色で表示するものとします。\n",
        "ax = iris_df[iris_df[\"cls\"] == 0].plot.scatter(\"length_cm\", \"width_cm\", color=\"red\")\n",
        "iris_df[iris_df[\"cls\"] == 1].plot.scatter(\"length_cm\", \"width_cm\", color=\"blue\", ax=ax)"
      ],
      "execution_count": null,
      "outputs": [
        {
          "output_type": "execute_result",
          "data": {
            "text/plain": [
              "<matplotlib.axes._subplots.AxesSubplot at 0x7f9b496cd250>"
            ]
          },
          "metadata": {
            "tags": []
          },
          "execution_count": 50
        },
        {
          "output_type": "display_data",
          "data": {
            "image/png": "[encoded data removed]",
            "text/plain": [
              "<Figure size 432x288 with 1 Axes>"
            ]
          },
          "metadata": {
            "tags": [],
            "needs_background": "light"
          }
        }
      ]
    },
    {
      "cell_type": "code",
      "metadata": {
        "id": "-6XpYzr7Qp_w"
      },
      "source": [
        "from sklearn.model_selection import train_test_split"
      ],
      "execution_count": null,
      "outputs": []
    },
    {
      "cell_type": "code",
      "metadata": {
        "colab": {
          "base_uri": "https://localhost:8080/"
        },
        "id": "DqzaqoSgQxT5",
        "outputId": "d890f2ef-28e6-4012-aceb-94369758adbf"
      },
      "source": [
        "#2.5 DataFrame(iris_df）のデータを訓練データ50件、テストデータ50件に分割してください。\n",
        "x_train, x_test, y_train, y_test = train_test_split(iris_df[['length_cm', 'width_cm']].values, iris_df['cls'].values, train_size=0.5, random_state=1)\n",
        "print(x_train.shape)\n",
        "print(x_test.shape)\n",
        "print(y_train.shape)\n",
        "print(y_test.shape)"
      ],
      "execution_count": 102,
      "outputs": [
        {
          "output_type": "stream",
          "text": [
            "(50, 2)\n",
            "(50, 2)\n",
            "(50,)\n",
            "(50,)\n"
          ],
          "name": "stdout"
        }
      ]
    },
    {
      "cell_type": "code",
      "metadata": {
        "id": "j2lraUIoT5zi"
      },
      "source": [
        "from sklearn.neighbors import KNeighborsClassifier"
      ],
      "execution_count": 105,
      "outputs": []
    },
    {
      "cell_type": "code",
      "metadata": {
        "colab": {
          "base_uri": "https://localhost:8080/"
        },
        "id": "vVSGjqxHSxQU",
        "outputId": "59ea9a15-4bd7-4b4b-808d-3ba026545a08"
      },
      "source": [
        "#2.6 k-NN法によって、DataFrame（iris_df）の訓練データで学習して、正答率（Accuracy）を表示してください。\n",
        "clf = KNeighborsClassifier(n_neighbors=3)\n",
        "clf.fit(x_train, y_train)\n",
        "print(clf.score(x_test, y_test))"
      ],
      "execution_count": 109,
      "outputs": [
        {
          "output_type": "stream",
          "text": [
            "0.98\n"
          ],
          "name": "stdout"
        }
      ]
    },
    {
      "cell_type": "code",
      "metadata": {
        "colab": {
          "base_uri": "https://localhost:8080/",
          "height": 340
        },
        "id": "1-m0DeJ9lUxj",
        "outputId": "a96b58d1-4f39-44ce-f2b7-ae3955673f59"
      },
      "source": [
        "#2.7 mlextend を使って散布図に境界線を描画してください。\n",
        "plot_decision_regions(x_train, y_train, clf=clf)"
      ],
      "execution_count": 112,
      "outputs": [
        {
          "output_type": "stream",
          "text": [
            "/usr/local/lib/python3.7/dist-packages/mlxtend/plotting/decision_regions.py:244: MatplotlibDeprecationWarning: Passing unsupported keyword arguments to axis() will raise a TypeError in 3.3.\n",
            "  ax.axis(xmin=xx.min(), xmax=xx.max(), y_min=yy.min(), y_max=yy.max())\n"
          ],
          "name": "stderr"
        },
        {
          "output_type": "execute_result",
          "data": {
            "text/plain": [
              "<matplotlib.axes._subplots.AxesSubplot at 0x7f9b4867ac10>"
            ]
          },
          "metadata": {
            "tags": []
          },
          "execution_count": 112
        },
        {
          "output_type": "display_data",
          "data": {
            "image/png": "[encoded data removed]",
            "text/plain": [
              "<Figure size 432x288 with 1 Axes>"
            ]
          },
          "metadata": {
            "tags": [],
            "needs_background": "light"
          }
        }
      ]
    }
  ]
}