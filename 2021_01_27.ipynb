{
  "nbformat": 4,
  "nbformat_minor": 0,
  "metadata": {
    "colab": {
      "name": "2021/01/27.ipynb",
      "provenance": [],
      "authorship_tag": "ABX9TyM/HO2wORrZH51MGER1QvsB"
    },
    "kernelspec": {
      "name": "python3",
      "display_name": "Python 3"
    }
  },
  "cells": [
    {
      "cell_type": "code",
      "metadata": {
        "id": "aCX6ozacl5rA"
      },
      "source": [
        "import numpy as np"
      ],
      "execution_count": null,
      "outputs": []
    },
    {
      "cell_type": "code",
      "metadata": {
        "id": "hs-D-znrrm0e"
      },
      "source": [
        "import matplotlib.pyplot as plt"
      ],
      "execution_count": null,
      "outputs": []
    },
    {
      "cell_type": "code",
      "metadata": {
        "colab": {
          "base_uri": "https://localhost:8080/"
        },
        "id": "vaHTr2s4qwEX",
        "outputId": "26806e7f-6701-4e26-9c5e-d0e1ba772c8a"
      },
      "source": [
        "x = np.random.normal(loc=70, scale=5, size=(50)).astype(int)\n",
        "mean = x.mean()\n",
        "std = std = x.std()\n",
        "print(\"mean\",mean)\n",
        "print(\"std\",std)\n",
        "\n",
        "x2 = (x - mean) / std\n",
        "print(x2)\n",
        "\n",
        "# plt.hist(Deviation_value)\n",
        "# # plt.show()"
      ],
      "execution_count": null,
      "outputs": [
        {
          "output_type": "stream",
          "text": [
            "mean 69.6\n",
            "std 4.931531202375181\n",
            "[-0.7299964   0.08111071 -2.55498738 -0.32444284  1.09499459  1.09499459\n",
            "  0.28388749  0.08111071 -1.94665705 -1.13554995  0.28388749  1.9061017\n",
            " -0.12166607 -0.7299964   0.08111071 -0.52721962 -1.74388028  1.09499459\n",
            " -0.52721962 -0.93277317  0.89221782  0.48666426  0.28388749 -1.13554995\n",
            "  1.70332492 -0.93277317 -0.32444284  0.08111071 -0.7299964   0.89221782\n",
            "  0.89221782  0.89221782  1.09499459 -1.5411035   0.68944104 -0.32444284\n",
            "  0.89221782  0.68944104  0.89221782 -1.13554995  0.28388749 -0.7299964\n",
            " -0.7299964  -0.52721962 -0.12166607  1.70332492 -1.33832672  0.28388749\n",
            "  1.09499459  1.09499459]\n"
          ],
          "name": "stdout"
        }
      ]
    },
    {
      "cell_type": "code",
      "metadata": {
        "colab": {
          "base_uri": "https://localhost:8080/"
        },
        "id": "NUep6X_1mnc0",
        "outputId": "e04aee63-5b1f-45f5-f96a-8cd6688bbae9"
      },
      "source": [
        "height = np.random.normal(loc=170, scale=5, size=(100)).astype(int)\n",
        "weight = np.random.normal(loc=170, scale=5, size=(100)).astype(int)\n",
        "\n",
        "print(height[:5])\n",
        "print(weight[:5])\n",
        "\n",
        "np.c_[height, weight]"
      ],
      "execution_count": null,
      "outputs": [
        {
          "output_type": "stream",
          "text": [
            "[171 170 172 173 174]\n",
            "[169 166 175 173 172]\n"
          ],
          "name": "stdout"
        },
        {
          "output_type": "execute_result",
          "data": {
            "text/plain": [
              "array([[171, 169],\n",
              "       [170, 166],\n",
              "       [172, 175],\n",
              "       [173, 173],\n",
              "       [174, 172],\n",
              "       [181, 164],\n",
              "       [174, 172],\n",
              "       [164, 165],\n",
              "       [174, 170],\n",
              "       [178, 177],\n",
              "       [162, 176],\n",
              "       [173, 175],\n",
              "       [167, 168],\n",
              "       [175, 175],\n",
              "       [166, 173],\n",
              "       [167, 172],\n",
              "       [177, 164],\n",
              "       [167, 164],\n",
              "       [170, 164],\n",
              "       [167, 178],\n",
              "       [169, 172],\n",
              "       [168, 171],\n",
              "       [168, 176],\n",
              "       [174, 169],\n",
              "       [171, 175],\n",
              "       [172, 163],\n",
              "       [163, 178],\n",
              "       [158, 175],\n",
              "       [176, 173],\n",
              "       [173, 161],\n",
              "       [174, 167],\n",
              "       [170, 169],\n",
              "       [174, 155],\n",
              "       [173, 164],\n",
              "       [162, 168],\n",
              "       [171, 174],\n",
              "       [165, 168],\n",
              "       [171, 173],\n",
              "       [162, 164],\n",
              "       [166, 174],\n",
              "       [163, 162],\n",
              "       [167, 168],\n",
              "       [161, 164],\n",
              "       [172, 180],\n",
              "       [165, 180],\n",
              "       [169, 176],\n",
              "       [162, 172],\n",
              "       [165, 172],\n",
              "       [176, 157],\n",
              "       [176, 168],\n",
              "       [166, 178],\n",
              "       [168, 168],\n",
              "       [169, 170],\n",
              "       [173, 171],\n",
              "       [158, 171],\n",
              "       [166, 166],\n",
              "       [164, 168],\n",
              "       [172, 184],\n",
              "       [165, 171],\n",
              "       [177, 170],\n",
              "       [164, 167],\n",
              "       [166, 173],\n",
              "       [175, 175],\n",
              "       [163, 170],\n",
              "       [160, 169],\n",
              "       [168, 165],\n",
              "       [179, 167],\n",
              "       [177, 176],\n",
              "       [166, 159],\n",
              "       [176, 172],\n",
              "       [176, 167],\n",
              "       [163, 162],\n",
              "       [164, 170],\n",
              "       [163, 161],\n",
              "       [177, 167],\n",
              "       [167, 169],\n",
              "       [165, 173],\n",
              "       [166, 166],\n",
              "       [164, 171],\n",
              "       [169, 165],\n",
              "       [167, 167],\n",
              "       [172, 163],\n",
              "       [173, 166],\n",
              "       [167, 159],\n",
              "       [167, 169],\n",
              "       [174, 165],\n",
              "       [168, 166],\n",
              "       [174, 172],\n",
              "       [172, 174],\n",
              "       [167, 169],\n",
              "       [173, 169],\n",
              "       [170, 169],\n",
              "       [168, 184],\n",
              "       [170, 159],\n",
              "       [177, 169],\n",
              "       [173, 165],\n",
              "       [172, 166],\n",
              "       [172, 168],\n",
              "       [174, 165],\n",
              "       [162, 161]])"
            ]
          },
          "metadata": {
            "tags": []
          },
          "execution_count": 77
        }
      ]
    },
    {
      "cell_type": "markdown",
      "metadata": {
        "id": "l4W3i5FoBSfe"
      },
      "source": [
        "#pandas - part1 - DataFrameとSeries"
      ]
    },
    {
      "cell_type": "code",
      "metadata": {
        "colab": {
          "base_uri": "https://localhost:8080/",
          "height": 175
        },
        "id": "yOSgwMyQBXE3",
        "outputId": "69e7982b-61fb-4987-d670-40e3c6834cdc"
      },
      "source": [
        "import pandas as pd\n",
        "\n",
        "data = {\"id\": [1, 2, 3, 4], \n",
        "        \"title\": [\"Python Book\", \"HTML Book\", \"PHP Book\", \"Hello English\"], \n",
        "        \"price\": [3000, 1000, 2000, 2000], \n",
        "        \"category\": [\"Programming\", \"Programming\", \"Programming\", \"English\"]}\n",
        "df = pd.DataFrame(data)\n",
        "df"
      ],
      "execution_count": null,
      "outputs": [
        {
          "output_type": "execute_result",
          "data": {
            "text/html": [
              "<div>\n",
              "<style scoped>\n",
              "    .dataframe tbody tr th:only-of-type {\n",
              "        vertical-align: middle;\n",
              "    }\n",
              "\n",
              "    .dataframe tbody tr th {\n",
              "        vertical-align: top;\n",
              "    }\n",
              "\n",
              "    .dataframe thead th {\n",
              "        text-align: right;\n",
              "    }\n",
              "</style>\n",
              "<table border=\"1\" class=\"dataframe\">\n",
              "  <thead>\n",
              "    <tr style=\"text-align: right;\">\n",
              "      <th></th>\n",
              "      <th>id</th>\n",
              "      <th>title</th>\n",
              "      <th>price</th>\n",
              "      <th>category</th>\n",
              "    </tr>\n",
              "  </thead>\n",
              "  <tbody>\n",
              "    <tr>\n",
              "      <th>0</th>\n",
              "      <td>1</td>\n",
              "      <td>Python Book</td>\n",
              "      <td>3000</td>\n",
              "      <td>Programming</td>\n",
              "    </tr>\n",
              "    <tr>\n",
              "      <th>1</th>\n",
              "      <td>2</td>\n",
              "      <td>HTML Book</td>\n",
              "      <td>1000</td>\n",
              "      <td>Programming</td>\n",
              "    </tr>\n",
              "    <tr>\n",
              "      <th>2</th>\n",
              "      <td>3</td>\n",
              "      <td>PHP Book</td>\n",
              "      <td>2000</td>\n",
              "      <td>Programming</td>\n",
              "    </tr>\n",
              "    <tr>\n",
              "      <th>3</th>\n",
              "      <td>4</td>\n",
              "      <td>Hello English</td>\n",
              "      <td>2000</td>\n",
              "      <td>English</td>\n",
              "    </tr>\n",
              "  </tbody>\n",
              "</table>\n",
              "</div>"
            ],
            "text/plain": [
              "   id          title  price     category\n",
              "0   1    Python Book   3000  Programming\n",
              "1   2      HTML Book   1000  Programming\n",
              "2   3       PHP Book   2000  Programming\n",
              "3   4  Hello English   2000      English"
            ]
          },
          "metadata": {
            "tags": []
          },
          "execution_count": 78
        }
      ]
    },
    {
      "cell_type": "code",
      "metadata": {
        "colab": {
          "base_uri": "https://localhost:8080/"
        },
        "id": "i5qfLnpiB2ax",
        "outputId": "fcc3aef6-7856-4bf4-ad94-f36c8e8e4fe8"
      },
      "source": [
        "df.count()"
      ],
      "execution_count": null,
      "outputs": [
        {
          "output_type": "execute_result",
          "data": {
            "text/plain": [
              "id          4\n",
              "title       4\n",
              "price       4\n",
              "category    4\n",
              "dtype: int64"
            ]
          },
          "metadata": {
            "tags": []
          },
          "execution_count": 79
        }
      ]
    },
    {
      "cell_type": "code",
      "metadata": {
        "colab": {
          "base_uri": "https://localhost:8080/",
          "height": 143
        },
        "id": "0LoXP43WC1k4",
        "outputId": "2c71f1cb-5e66-4bb1-a832-0f8475b344ce"
      },
      "source": [
        "data = {\"id\": [1, 2, 3], \n",
        "        \"title\": [\"Python Book\", \"HTML Book\", \"PHP Book\"],\n",
        "        \"price\": [3000, 1000, 2000]}\n",
        "df = pd.DataFrame(data)\n",
        "df"
      ],
      "execution_count": null,
      "outputs": [
        {
          "output_type": "execute_result",
          "data": {
            "text/html": [
              "<div>\n",
              "<style scoped>\n",
              "    .dataframe tbody tr th:only-of-type {\n",
              "        vertical-align: middle;\n",
              "    }\n",
              "\n",
              "    .dataframe tbody tr th {\n",
              "        vertical-align: top;\n",
              "    }\n",
              "\n",
              "    .dataframe thead th {\n",
              "        text-align: right;\n",
              "    }\n",
              "</style>\n",
              "<table border=\"1\" class=\"dataframe\">\n",
              "  <thead>\n",
              "    <tr style=\"text-align: right;\">\n",
              "      <th></th>\n",
              "      <th>id</th>\n",
              "      <th>title</th>\n",
              "      <th>price</th>\n",
              "    </tr>\n",
              "  </thead>\n",
              "  <tbody>\n",
              "    <tr>\n",
              "      <th>0</th>\n",
              "      <td>1</td>\n",
              "      <td>Python Book</td>\n",
              "      <td>3000</td>\n",
              "    </tr>\n",
              "    <tr>\n",
              "      <th>1</th>\n",
              "      <td>2</td>\n",
              "      <td>HTML Book</td>\n",
              "      <td>1000</td>\n",
              "    </tr>\n",
              "    <tr>\n",
              "      <th>2</th>\n",
              "      <td>3</td>\n",
              "      <td>PHP Book</td>\n",
              "      <td>2000</td>\n",
              "    </tr>\n",
              "  </tbody>\n",
              "</table>\n",
              "</div>"
            ],
            "text/plain": [
              "   id        title  price\n",
              "0   1  Python Book   3000\n",
              "1   2    HTML Book   1000\n",
              "2   3     PHP Book   2000"
            ]
          },
          "metadata": {
            "tags": []
          },
          "execution_count": 83
        }
      ]
    },
    {
      "cell_type": "code",
      "metadata": {
        "colab": {
          "base_uri": "https://localhost:8080/",
          "height": 112
        },
        "id": "B5lSg-C-DTRN",
        "outputId": "1fccf7a3-979c-41d8-bd18-fe7859df70ac"
      },
      "source": [
        "df[df.index >= 1]"
      ],
      "execution_count": null,
      "outputs": [
        {
          "output_type": "execute_result",
          "data": {
            "text/html": [
              "<div>\n",
              "<style scoped>\n",
              "    .dataframe tbody tr th:only-of-type {\n",
              "        vertical-align: middle;\n",
              "    }\n",
              "\n",
              "    .dataframe tbody tr th {\n",
              "        vertical-align: top;\n",
              "    }\n",
              "\n",
              "    .dataframe thead th {\n",
              "        text-align: right;\n",
              "    }\n",
              "</style>\n",
              "<table border=\"1\" class=\"dataframe\">\n",
              "  <thead>\n",
              "    <tr style=\"text-align: right;\">\n",
              "      <th></th>\n",
              "      <th>id</th>\n",
              "      <th>title</th>\n",
              "      <th>price</th>\n",
              "    </tr>\n",
              "  </thead>\n",
              "  <tbody>\n",
              "    <tr>\n",
              "      <th>1</th>\n",
              "      <td>2</td>\n",
              "      <td>HTML Book</td>\n",
              "      <td>1000</td>\n",
              "    </tr>\n",
              "    <tr>\n",
              "      <th>2</th>\n",
              "      <td>3</td>\n",
              "      <td>PHP Book</td>\n",
              "      <td>2000</td>\n",
              "    </tr>\n",
              "  </tbody>\n",
              "</table>\n",
              "</div>"
            ],
            "text/plain": [
              "   id      title  price\n",
              "1   2  HTML Book   1000\n",
              "2   3   PHP Book   2000"
            ]
          },
          "metadata": {
            "tags": []
          },
          "execution_count": 91
        }
      ]
    },
    {
      "cell_type": "code",
      "metadata": {
        "colab": {
          "base_uri": "https://localhost:8080/"
        },
        "id": "mTy9NJUfEQVG",
        "outputId": "9bdeaa8d-4113-4e56-9434-355d9960fbf4"
      },
      "source": [
        "df.iloc[1]"
      ],
      "execution_count": null,
      "outputs": [
        {
          "output_type": "execute_result",
          "data": {
            "text/plain": [
              "id               2\n",
              "title    HTML Book\n",
              "price         1000\n",
              "Name: 1, dtype: object"
            ]
          },
          "metadata": {
            "tags": []
          },
          "execution_count": 92
        }
      ]
    },
    {
      "cell_type": "code",
      "metadata": {
        "colab": {
          "base_uri": "https://localhost:8080/",
          "height": 175
        },
        "id": "JF6z4TLMEfOT",
        "outputId": "c13ac167-aa10-41e8-81f3-d7481ad0a301"
      },
      "source": [
        "df2 = df.set_index(\"id\")\n",
        "df2"
      ],
      "execution_count": null,
      "outputs": [
        {
          "output_type": "execute_result",
          "data": {
            "text/html": [
              "<div>\n",
              "<style scoped>\n",
              "    .dataframe tbody tr th:only-of-type {\n",
              "        vertical-align: middle;\n",
              "    }\n",
              "\n",
              "    .dataframe tbody tr th {\n",
              "        vertical-align: top;\n",
              "    }\n",
              "\n",
              "    .dataframe thead th {\n",
              "        text-align: right;\n",
              "    }\n",
              "</style>\n",
              "<table border=\"1\" class=\"dataframe\">\n",
              "  <thead>\n",
              "    <tr style=\"text-align: right;\">\n",
              "      <th></th>\n",
              "      <th>title</th>\n",
              "      <th>price</th>\n",
              "    </tr>\n",
              "    <tr>\n",
              "      <th>id</th>\n",
              "      <th></th>\n",
              "      <th></th>\n",
              "    </tr>\n",
              "  </thead>\n",
              "  <tbody>\n",
              "    <tr>\n",
              "      <th>1</th>\n",
              "      <td>Python Book</td>\n",
              "      <td>3000</td>\n",
              "    </tr>\n",
              "    <tr>\n",
              "      <th>2</th>\n",
              "      <td>HTML Book</td>\n",
              "      <td>1000</td>\n",
              "    </tr>\n",
              "    <tr>\n",
              "      <th>3</th>\n",
              "      <td>PHP Book</td>\n",
              "      <td>2000</td>\n",
              "    </tr>\n",
              "  </tbody>\n",
              "</table>\n",
              "</div>"
            ],
            "text/plain": [
              "          title  price\n",
              "id                    \n",
              "1   Python Book   3000\n",
              "2     HTML Book   1000\n",
              "3      PHP Book   2000"
            ]
          },
          "metadata": {
            "tags": []
          },
          "execution_count": 93
        }
      ]
    },
    {
      "cell_type": "code",
      "metadata": {
        "colab": {
          "base_uri": "https://localhost:8080/",
          "height": 112
        },
        "id": "9h-Ms99fE_44",
        "outputId": "4202cf16-f376-4531-d0c4-2f5c83b3e60f"
      },
      "source": [
        "df2[df2.index == 2]"
      ],
      "execution_count": null,
      "outputs": [
        {
          "output_type": "execute_result",
          "data": {
            "text/html": [
              "<div>\n",
              "<style scoped>\n",
              "    .dataframe tbody tr th:only-of-type {\n",
              "        vertical-align: middle;\n",
              "    }\n",
              "\n",
              "    .dataframe tbody tr th {\n",
              "        vertical-align: top;\n",
              "    }\n",
              "\n",
              "    .dataframe thead th {\n",
              "        text-align: right;\n",
              "    }\n",
              "</style>\n",
              "<table border=\"1\" class=\"dataframe\">\n",
              "  <thead>\n",
              "    <tr style=\"text-align: right;\">\n",
              "      <th></th>\n",
              "      <th>title</th>\n",
              "      <th>price</th>\n",
              "    </tr>\n",
              "    <tr>\n",
              "      <th>id</th>\n",
              "      <th></th>\n",
              "      <th></th>\n",
              "    </tr>\n",
              "  </thead>\n",
              "  <tbody>\n",
              "    <tr>\n",
              "      <th>2</th>\n",
              "      <td>HTML Book</td>\n",
              "      <td>1000</td>\n",
              "    </tr>\n",
              "  </tbody>\n",
              "</table>\n",
              "</div>"
            ],
            "text/plain": [
              "        title  price\n",
              "id                  \n",
              "2   HTML Book   1000"
            ]
          },
          "metadata": {
            "tags": []
          },
          "execution_count": 97
        }
      ]
    },
    {
      "cell_type": "markdown",
      "metadata": {
        "id": "Dd0WDGNCFViD"
      },
      "source": [
        "#pandas - part2 - データの表示"
      ]
    },
    {
      "cell_type": "code",
      "metadata": {
        "colab": {
          "base_uri": "https://localhost:8080/",
          "height": 175
        },
        "id": "TZ3-vmHBFYAe",
        "outputId": "8ff34bf5-324e-421d-a8e4-18fbbc949a8b"
      },
      "source": [
        "import pandas as pd\n",
        "\n",
        "data = {\"id\": [1, 2, 3, 4], \n",
        "        \"title\": [\"Python Book\", \"HTML Book\", \"PHP Book\", \"Hello English\"], \n",
        "        \"price\": [3000, 1000, 2000, 2000], \n",
        "        \"category\": [\"Programming\", \"Programming\", \"Programming\", \"English\"]}\n",
        "books = pd.DataFrame(data)\n",
        "books"
      ],
      "execution_count": null,
      "outputs": [
        {
          "output_type": "execute_result",
          "data": {
            "text/html": [
              "<div>\n",
              "<style scoped>\n",
              "    .dataframe tbody tr th:only-of-type {\n",
              "        vertical-align: middle;\n",
              "    }\n",
              "\n",
              "    .dataframe tbody tr th {\n",
              "        vertical-align: top;\n",
              "    }\n",
              "\n",
              "    .dataframe thead th {\n",
              "        text-align: right;\n",
              "    }\n",
              "</style>\n",
              "<table border=\"1\" class=\"dataframe\">\n",
              "  <thead>\n",
              "    <tr style=\"text-align: right;\">\n",
              "      <th></th>\n",
              "      <th>id</th>\n",
              "      <th>title</th>\n",
              "      <th>price</th>\n",
              "      <th>category</th>\n",
              "    </tr>\n",
              "  </thead>\n",
              "  <tbody>\n",
              "    <tr>\n",
              "      <th>0</th>\n",
              "      <td>1</td>\n",
              "      <td>Python Book</td>\n",
              "      <td>3000</td>\n",
              "      <td>Programming</td>\n",
              "    </tr>\n",
              "    <tr>\n",
              "      <th>1</th>\n",
              "      <td>2</td>\n",
              "      <td>HTML Book</td>\n",
              "      <td>1000</td>\n",
              "      <td>Programming</td>\n",
              "    </tr>\n",
              "    <tr>\n",
              "      <th>2</th>\n",
              "      <td>3</td>\n",
              "      <td>PHP Book</td>\n",
              "      <td>2000</td>\n",
              "      <td>Programming</td>\n",
              "    </tr>\n",
              "    <tr>\n",
              "      <th>3</th>\n",
              "      <td>4</td>\n",
              "      <td>Hello English</td>\n",
              "      <td>2000</td>\n",
              "      <td>English</td>\n",
              "    </tr>\n",
              "  </tbody>\n",
              "</table>\n",
              "</div>"
            ],
            "text/plain": [
              "   id          title  price     category\n",
              "0   1    Python Book   3000  Programming\n",
              "1   2      HTML Book   1000  Programming\n",
              "2   3       PHP Book   2000  Programming\n",
              "3   4  Hello English   2000      English"
            ]
          },
          "metadata": {
            "tags": []
          },
          "execution_count": 98
        }
      ]
    },
    {
      "cell_type": "code",
      "metadata": {
        "colab": {
          "base_uri": "https://localhost:8080/",
          "height": 175
        },
        "id": "O0VnFfE3Fuk5",
        "outputId": "7947fed3-9614-4eca-c8e3-31b3d30019ec"
      },
      "source": [
        "books[[\"title\", \"price\"]]"
      ],
      "execution_count": null,
      "outputs": [
        {
          "output_type": "execute_result",
          "data": {
            "text/html": [
              "<div>\n",
              "<style scoped>\n",
              "    .dataframe tbody tr th:only-of-type {\n",
              "        vertical-align: middle;\n",
              "    }\n",
              "\n",
              "    .dataframe tbody tr th {\n",
              "        vertical-align: top;\n",
              "    }\n",
              "\n",
              "    .dataframe thead th {\n",
              "        text-align: right;\n",
              "    }\n",
              "</style>\n",
              "<table border=\"1\" class=\"dataframe\">\n",
              "  <thead>\n",
              "    <tr style=\"text-align: right;\">\n",
              "      <th></th>\n",
              "      <th>title</th>\n",
              "      <th>price</th>\n",
              "    </tr>\n",
              "  </thead>\n",
              "  <tbody>\n",
              "    <tr>\n",
              "      <th>0</th>\n",
              "      <td>Python Book</td>\n",
              "      <td>3000</td>\n",
              "    </tr>\n",
              "    <tr>\n",
              "      <th>1</th>\n",
              "      <td>HTML Book</td>\n",
              "      <td>1000</td>\n",
              "    </tr>\n",
              "    <tr>\n",
              "      <th>2</th>\n",
              "      <td>PHP Book</td>\n",
              "      <td>2000</td>\n",
              "    </tr>\n",
              "    <tr>\n",
              "      <th>3</th>\n",
              "      <td>Hello English</td>\n",
              "      <td>2000</td>\n",
              "    </tr>\n",
              "  </tbody>\n",
              "</table>\n",
              "</div>"
            ],
            "text/plain": [
              "           title  price\n",
              "0    Python Book   3000\n",
              "1      HTML Book   1000\n",
              "2       PHP Book   2000\n",
              "3  Hello English   2000"
            ]
          },
          "metadata": {
            "tags": []
          },
          "execution_count": 99
        }
      ]
    },
    {
      "cell_type": "code",
      "metadata": {
        "colab": {
          "base_uri": "https://localhost:8080/",
          "height": 112
        },
        "id": "5buZHRhgGKJ-",
        "outputId": "2c7ce3bf-2af1-46a7-83aa-a96676f19ec3"
      },
      "source": [
        "books[books[\"price\"] == 2000]"
      ],
      "execution_count": null,
      "outputs": [
        {
          "output_type": "execute_result",
          "data": {
            "text/html": [
              "<div>\n",
              "<style scoped>\n",
              "    .dataframe tbody tr th:only-of-type {\n",
              "        vertical-align: middle;\n",
              "    }\n",
              "\n",
              "    .dataframe tbody tr th {\n",
              "        vertical-align: top;\n",
              "    }\n",
              "\n",
              "    .dataframe thead th {\n",
              "        text-align: right;\n",
              "    }\n",
              "</style>\n",
              "<table border=\"1\" class=\"dataframe\">\n",
              "  <thead>\n",
              "    <tr style=\"text-align: right;\">\n",
              "      <th></th>\n",
              "      <th>id</th>\n",
              "      <th>title</th>\n",
              "      <th>price</th>\n",
              "      <th>category</th>\n",
              "    </tr>\n",
              "  </thead>\n",
              "  <tbody>\n",
              "    <tr>\n",
              "      <th>2</th>\n",
              "      <td>3</td>\n",
              "      <td>PHP Book</td>\n",
              "      <td>2000</td>\n",
              "      <td>Programming</td>\n",
              "    </tr>\n",
              "    <tr>\n",
              "      <th>3</th>\n",
              "      <td>4</td>\n",
              "      <td>Hello English</td>\n",
              "      <td>2000</td>\n",
              "      <td>English</td>\n",
              "    </tr>\n",
              "  </tbody>\n",
              "</table>\n",
              "</div>"
            ],
            "text/plain": [
              "   id          title  price     category\n",
              "2   3       PHP Book   2000  Programming\n",
              "3   4  Hello English   2000      English"
            ]
          },
          "metadata": {
            "tags": []
          },
          "execution_count": 101
        }
      ]
    },
    {
      "cell_type": "code",
      "metadata": {
        "colab": {
          "base_uri": "https://localhost:8080/",
          "height": 81
        },
        "id": "lvIxDB5tG1AP",
        "outputId": "54c16cf7-23e6-49d9-d56b-b1568b6efb1d"
      },
      "source": [
        "books_1000 = books[books[\"price\"] == 1000]\n",
        "books_1000[books_1000[\"category\"] == \"Programming\"]"
      ],
      "execution_count": null,
      "outputs": [
        {
          "output_type": "execute_result",
          "data": {
            "text/html": [
              "<div>\n",
              "<style scoped>\n",
              "    .dataframe tbody tr th:only-of-type {\n",
              "        vertical-align: middle;\n",
              "    }\n",
              "\n",
              "    .dataframe tbody tr th {\n",
              "        vertical-align: top;\n",
              "    }\n",
              "\n",
              "    .dataframe thead th {\n",
              "        text-align: right;\n",
              "    }\n",
              "</style>\n",
              "<table border=\"1\" class=\"dataframe\">\n",
              "  <thead>\n",
              "    <tr style=\"text-align: right;\">\n",
              "      <th></th>\n",
              "      <th>id</th>\n",
              "      <th>title</th>\n",
              "      <th>price</th>\n",
              "      <th>category</th>\n",
              "    </tr>\n",
              "  </thead>\n",
              "  <tbody>\n",
              "    <tr>\n",
              "      <th>1</th>\n",
              "      <td>2</td>\n",
              "      <td>HTML Book</td>\n",
              "      <td>1000</td>\n",
              "      <td>Programming</td>\n",
              "    </tr>\n",
              "  </tbody>\n",
              "</table>\n",
              "</div>"
            ],
            "text/plain": [
              "   id      title  price     category\n",
              "1   2  HTML Book   1000  Programming"
            ]
          },
          "metadata": {
            "tags": []
          },
          "execution_count": 104
        }
      ]
    },
    {
      "cell_type": "code",
      "metadata": {
        "colab": {
          "base_uri": "https://localhost:8080/",
          "height": 175
        },
        "id": "mAjdI_NPHQaB",
        "outputId": "4ee05f7f-420d-45d4-9130-5f6f4b5d204f"
      },
      "source": [
        "books"
      ],
      "execution_count": null,
      "outputs": [
        {
          "output_type": "execute_result",
          "data": {
            "text/html": [
              "<div>\n",
              "<style scoped>\n",
              "    .dataframe tbody tr th:only-of-type {\n",
              "        vertical-align: middle;\n",
              "    }\n",
              "\n",
              "    .dataframe tbody tr th {\n",
              "        vertical-align: top;\n",
              "    }\n",
              "\n",
              "    .dataframe thead th {\n",
              "        text-align: right;\n",
              "    }\n",
              "</style>\n",
              "<table border=\"1\" class=\"dataframe\">\n",
              "  <thead>\n",
              "    <tr style=\"text-align: right;\">\n",
              "      <th></th>\n",
              "      <th>id</th>\n",
              "      <th>title</th>\n",
              "      <th>price</th>\n",
              "      <th>category</th>\n",
              "    </tr>\n",
              "  </thead>\n",
              "  <tbody>\n",
              "    <tr>\n",
              "      <th>0</th>\n",
              "      <td>1</td>\n",
              "      <td>Python Book</td>\n",
              "      <td>3000</td>\n",
              "      <td>Programming</td>\n",
              "    </tr>\n",
              "    <tr>\n",
              "      <th>1</th>\n",
              "      <td>2</td>\n",
              "      <td>HTML Book</td>\n",
              "      <td>1000</td>\n",
              "      <td>Programming</td>\n",
              "    </tr>\n",
              "    <tr>\n",
              "      <th>2</th>\n",
              "      <td>3</td>\n",
              "      <td>PHP Book</td>\n",
              "      <td>2000</td>\n",
              "      <td>Programming</td>\n",
              "    </tr>\n",
              "    <tr>\n",
              "      <th>3</th>\n",
              "      <td>4</td>\n",
              "      <td>Hello English</td>\n",
              "      <td>2000</td>\n",
              "      <td>English</td>\n",
              "    </tr>\n",
              "  </tbody>\n",
              "</table>\n",
              "</div>"
            ],
            "text/plain": [
              "   id          title  price     category\n",
              "0   1    Python Book   3000  Programming\n",
              "1   2      HTML Book   1000  Programming\n",
              "2   3       PHP Book   2000  Programming\n",
              "3   4  Hello English   2000      English"
            ]
          },
          "metadata": {
            "tags": []
          },
          "execution_count": 105
        }
      ]
    },
    {
      "cell_type": "code",
      "metadata": {
        "colab": {
          "base_uri": "https://localhost:8080/"
        },
        "id": "jWbBUCn7HUpk",
        "outputId": "91199c5f-44d9-466e-febe-f5e693af1891"
      },
      "source": [
        "books[\"price\"] >= 2000"
      ],
      "execution_count": null,
      "outputs": [
        {
          "output_type": "execute_result",
          "data": {
            "text/plain": [
              "0     True\n",
              "1    False\n",
              "2     True\n",
              "3     True\n",
              "Name: price, dtype: bool"
            ]
          },
          "metadata": {
            "tags": []
          },
          "execution_count": 106
        }
      ]
    },
    {
      "cell_type": "code",
      "metadata": {
        "colab": {
          "base_uri": "https://localhost:8080/",
          "height": 143
        },
        "id": "zfKByE-NHpkz",
        "outputId": "217fbc26-410a-4884-b0b3-5919a4636f23"
      },
      "source": [
        "books.loc[books[\"price\"] >= 2000, [\"title\", \"price\"]]"
      ],
      "execution_count": null,
      "outputs": [
        {
          "output_type": "execute_result",
          "data": {
            "text/html": [
              "<div>\n",
              "<style scoped>\n",
              "    .dataframe tbody tr th:only-of-type {\n",
              "        vertical-align: middle;\n",
              "    }\n",
              "\n",
              "    .dataframe tbody tr th {\n",
              "        vertical-align: top;\n",
              "    }\n",
              "\n",
              "    .dataframe thead th {\n",
              "        text-align: right;\n",
              "    }\n",
              "</style>\n",
              "<table border=\"1\" class=\"dataframe\">\n",
              "  <thead>\n",
              "    <tr style=\"text-align: right;\">\n",
              "      <th></th>\n",
              "      <th>title</th>\n",
              "      <th>price</th>\n",
              "    </tr>\n",
              "  </thead>\n",
              "  <tbody>\n",
              "    <tr>\n",
              "      <th>0</th>\n",
              "      <td>Python Book</td>\n",
              "      <td>3000</td>\n",
              "    </tr>\n",
              "    <tr>\n",
              "      <th>2</th>\n",
              "      <td>PHP Book</td>\n",
              "      <td>2000</td>\n",
              "    </tr>\n",
              "    <tr>\n",
              "      <th>3</th>\n",
              "      <td>Hello English</td>\n",
              "      <td>2000</td>\n",
              "    </tr>\n",
              "  </tbody>\n",
              "</table>\n",
              "</div>"
            ],
            "text/plain": [
              "           title  price\n",
              "0    Python Book   3000\n",
              "2       PHP Book   2000\n",
              "3  Hello English   2000"
            ]
          },
          "metadata": {
            "tags": []
          },
          "execution_count": 107
        }
      ]
    },
    {
      "cell_type": "markdown",
      "metadata": {
        "id": "tTpZVI6pIdu1"
      },
      "source": [
        "#pandas - part3 - CSVファイルの処理"
      ]
    },
    {
      "cell_type": "code",
      "metadata": {
        "colab": {
          "base_uri": "https://localhost:8080/"
        },
        "id": "US1Axp5AIX7h",
        "outputId": "e2429a11-8aa5-4efb-e51b-a9a82cd1b3aa"
      },
      "source": [
        "!wget https://gist.githubusercontent.com/murayama333/7498728296525a789ceb9df00c48f29f/raw/fdf91f8c44b03303cbf821be654428a5d51d4301/books.csv"
      ],
      "execution_count": null,
      "outputs": [
        {
          "output_type": "stream",
          "text": [
            "--2021-01-27 04:37:15--  https://gist.githubusercontent.com/murayama333/7498728296525a789ceb9df00c48f29f/raw/fdf91f8c44b03303cbf821be654428a5d51d4301/books.csv\n",
            "Resolving gist.githubusercontent.com (gist.githubusercontent.com)... 151.101.0.133, 151.101.64.133, 151.101.128.133, ...\n",
            "Connecting to gist.githubusercontent.com (gist.githubusercontent.com)|151.101.0.133|:443... connected.\n",
            "HTTP request sent, awaiting response... 200 OK\n",
            "Length: 114 [text/plain]\n",
            "Saving to: ‘books.csv’\n",
            "\n",
            "\rbooks.csv             0%[                    ]       0  --.-KB/s               \rbooks.csv           100%[===================>]     114  --.-KB/s    in 0s      \n",
            "\n",
            "2021-01-27 04:37:15 (6.73 MB/s) - ‘books.csv’ saved [114/114]\n",
            "\n"
          ],
          "name": "stdout"
        }
      ]
    },
    {
      "cell_type": "code",
      "metadata": {
        "colab": {
          "base_uri": "https://localhost:8080/"
        },
        "id": "ZZ-cE-x-JNPs",
        "outputId": "906e94ca-9295-4555-f759-ef77582ce87b"
      },
      "source": [
        "!cat books.csv"
      ],
      "execution_count": null,
      "outputs": [
        {
          "output_type": "stream",
          "text": [
            "ID,Title,Price,Category\n",
            "1,Python Book,3000,PG\n",
            "2,HTML Book,1000,PG\n",
            "3,PHP Book,2000,PG\n",
            "4,Hello English,1000,English\n"
          ],
          "name": "stdout"
        }
      ]
    },
    {
      "cell_type": "code",
      "metadata": {
        "colab": {
          "base_uri": "https://localhost:8080/",
          "height": 175
        },
        "id": "h9lucvW2JeWS",
        "outputId": "3a86dad9-50d2-4d2d-b294-6ca927aade2c"
      },
      "source": [
        "books = pd.read_csv(\"books.csv\")\n",
        "books"
      ],
      "execution_count": null,
      "outputs": [
        {
          "output_type": "execute_result",
          "data": {
            "text/html": [
              "<div>\n",
              "<style scoped>\n",
              "    .dataframe tbody tr th:only-of-type {\n",
              "        vertical-align: middle;\n",
              "    }\n",
              "\n",
              "    .dataframe tbody tr th {\n",
              "        vertical-align: top;\n",
              "    }\n",
              "\n",
              "    .dataframe thead th {\n",
              "        text-align: right;\n",
              "    }\n",
              "</style>\n",
              "<table border=\"1\" class=\"dataframe\">\n",
              "  <thead>\n",
              "    <tr style=\"text-align: right;\">\n",
              "      <th></th>\n",
              "      <th>ID</th>\n",
              "      <th>Title</th>\n",
              "      <th>Price</th>\n",
              "      <th>Category</th>\n",
              "    </tr>\n",
              "  </thead>\n",
              "  <tbody>\n",
              "    <tr>\n",
              "      <th>0</th>\n",
              "      <td>1</td>\n",
              "      <td>Python Book</td>\n",
              "      <td>3000</td>\n",
              "      <td>PG</td>\n",
              "    </tr>\n",
              "    <tr>\n",
              "      <th>1</th>\n",
              "      <td>2</td>\n",
              "      <td>HTML Book</td>\n",
              "      <td>1000</td>\n",
              "      <td>PG</td>\n",
              "    </tr>\n",
              "    <tr>\n",
              "      <th>2</th>\n",
              "      <td>3</td>\n",
              "      <td>PHP Book</td>\n",
              "      <td>2000</td>\n",
              "      <td>PG</td>\n",
              "    </tr>\n",
              "    <tr>\n",
              "      <th>3</th>\n",
              "      <td>4</td>\n",
              "      <td>Hello English</td>\n",
              "      <td>1000</td>\n",
              "      <td>English</td>\n",
              "    </tr>\n",
              "  </tbody>\n",
              "</table>\n",
              "</div>"
            ],
            "text/plain": [
              "   ID          Title  Price Category\n",
              "0   1    Python Book   3000       PG\n",
              "1   2      HTML Book   1000       PG\n",
              "2   3       PHP Book   2000       PG\n",
              "3   4  Hello English   1000  English"
            ]
          },
          "metadata": {
            "tags": []
          },
          "execution_count": 110
        }
      ]
    },
    {
      "cell_type": "code",
      "metadata": {
        "id": "2_tcgjdpJo1Y"
      },
      "source": [
        "books.to_csv(\"output.csv\")"
      ],
      "execution_count": null,
      "outputs": []
    },
    {
      "cell_type": "markdown",
      "metadata": {
        "id": "Q0Dd045LKILV"
      },
      "source": [
        "#pandas - part4 - グラフの描画"
      ]
    },
    {
      "cell_type": "code",
      "metadata": {
        "colab": {
          "base_uri": "https://localhost:8080/"
        },
        "id": "fRs7ZzmFKJuz",
        "outputId": "f6be2833-ee83-4f82-b58c-69b44f425eaa"
      },
      "source": [
        "!wget https://gist.githubusercontent.com/murayama333/a5b7fb0e1c2a64ce910e35fb76518ac2/raw/e77ced7a7aa8e90684b4c922f47b4cd998f1dced/scores.csv"
      ],
      "execution_count": null,
      "outputs": [
        {
          "output_type": "stream",
          "text": [
            "--2021-01-27 04:45:02--  https://gist.githubusercontent.com/murayama333/a5b7fb0e1c2a64ce910e35fb76518ac2/raw/e77ced7a7aa8e90684b4c922f47b4cd998f1dced/scores.csv\n",
            "Resolving gist.githubusercontent.com (gist.githubusercontent.com)... 151.101.0.133, 151.101.64.133, 151.101.128.133, ...\n",
            "Connecting to gist.githubusercontent.com (gist.githubusercontent.com)|151.101.0.133|:443... connected.\n",
            "HTTP request sent, awaiting response... 200 OK\n",
            "Length: 160 [text/plain]\n",
            "Saving to: ‘scores.csv’\n",
            "\n",
            "\rscores.csv            0%[                    ]       0  --.-KB/s               \rscores.csv          100%[===================>]     160  --.-KB/s    in 0s      \n",
            "\n",
            "2021-01-27 04:45:02 (9.02 MB/s) - ‘scores.csv’ saved [160/160]\n",
            "\n"
          ],
          "name": "stdout"
        }
      ]
    },
    {
      "cell_type": "code",
      "metadata": {
        "colab": {
          "base_uri": "https://localhost:8080/"
        },
        "id": "9VTIYf3oKOKl",
        "outputId": "28c53803-78e9-415b-8ac5-b78c0c1d4257"
      },
      "source": [
        "!cat scores.csv"
      ],
      "execution_count": null,
      "outputs": [
        {
          "output_type": "stream",
          "text": [
            "ID,Math,English,Science,Area\n",
            "1,93,72,95,A\n",
            "2,62,80,68,B\n",
            "3,65,50,62,C\n",
            "4,64,56,52,C\n",
            "5,82,58,99,A\n",
            "6,73,78,68,B\n",
            "7,82,82,80,B\n",
            "8,90,80,94,A\n",
            "9,94,88,98,A\n",
            "10,24,70,38,C\n"
          ],
          "name": "stdout"
        }
      ]
    },
    {
      "cell_type": "code",
      "metadata": {
        "colab": {
          "base_uri": "https://localhost:8080/",
          "height": 394
        },
        "id": "vM2KipijKRzf",
        "outputId": "f0e3b25b-b274-4eb2-a028-a767d52116e4"
      },
      "source": [
        "scores = pd.read_csv(\"scores.csv\", index_col=0)\n",
        "scores"
      ],
      "execution_count": null,
      "outputs": [
        {
          "output_type": "execute_result",
          "data": {
            "text/html": [
              "<div>\n",
              "<style scoped>\n",
              "    .dataframe tbody tr th:only-of-type {\n",
              "        vertical-align: middle;\n",
              "    }\n",
              "\n",
              "    .dataframe tbody tr th {\n",
              "        vertical-align: top;\n",
              "    }\n",
              "\n",
              "    .dataframe thead th {\n",
              "        text-align: right;\n",
              "    }\n",
              "</style>\n",
              "<table border=\"1\" class=\"dataframe\">\n",
              "  <thead>\n",
              "    <tr style=\"text-align: right;\">\n",
              "      <th></th>\n",
              "      <th>Math</th>\n",
              "      <th>English</th>\n",
              "      <th>Science</th>\n",
              "      <th>Area</th>\n",
              "    </tr>\n",
              "    <tr>\n",
              "      <th>ID</th>\n",
              "      <th></th>\n",
              "      <th></th>\n",
              "      <th></th>\n",
              "      <th></th>\n",
              "    </tr>\n",
              "  </thead>\n",
              "  <tbody>\n",
              "    <tr>\n",
              "      <th>1</th>\n",
              "      <td>93</td>\n",
              "      <td>72</td>\n",
              "      <td>95</td>\n",
              "      <td>A</td>\n",
              "    </tr>\n",
              "    <tr>\n",
              "      <th>2</th>\n",
              "      <td>62</td>\n",
              "      <td>80</td>\n",
              "      <td>68</td>\n",
              "      <td>B</td>\n",
              "    </tr>\n",
              "    <tr>\n",
              "      <th>3</th>\n",
              "      <td>65</td>\n",
              "      <td>50</td>\n",
              "      <td>62</td>\n",
              "      <td>C</td>\n",
              "    </tr>\n",
              "    <tr>\n",
              "      <th>4</th>\n",
              "      <td>64</td>\n",
              "      <td>56</td>\n",
              "      <td>52</td>\n",
              "      <td>C</td>\n",
              "    </tr>\n",
              "    <tr>\n",
              "      <th>5</th>\n",
              "      <td>82</td>\n",
              "      <td>58</td>\n",
              "      <td>99</td>\n",
              "      <td>A</td>\n",
              "    </tr>\n",
              "    <tr>\n",
              "      <th>6</th>\n",
              "      <td>73</td>\n",
              "      <td>78</td>\n",
              "      <td>68</td>\n",
              "      <td>B</td>\n",
              "    </tr>\n",
              "    <tr>\n",
              "      <th>7</th>\n",
              "      <td>82</td>\n",
              "      <td>82</td>\n",
              "      <td>80</td>\n",
              "      <td>B</td>\n",
              "    </tr>\n",
              "    <tr>\n",
              "      <th>8</th>\n",
              "      <td>90</td>\n",
              "      <td>80</td>\n",
              "      <td>94</td>\n",
              "      <td>A</td>\n",
              "    </tr>\n",
              "    <tr>\n",
              "      <th>9</th>\n",
              "      <td>94</td>\n",
              "      <td>88</td>\n",
              "      <td>98</td>\n",
              "      <td>A</td>\n",
              "    </tr>\n",
              "    <tr>\n",
              "      <th>10</th>\n",
              "      <td>24</td>\n",
              "      <td>70</td>\n",
              "      <td>38</td>\n",
              "      <td>C</td>\n",
              "    </tr>\n",
              "  </tbody>\n",
              "</table>\n",
              "</div>"
            ],
            "text/plain": [
              "    Math  English  Science Area\n",
              "ID                             \n",
              "1     93       72       95    A\n",
              "2     62       80       68    B\n",
              "3     65       50       62    C\n",
              "4     64       56       52    C\n",
              "5     82       58       99    A\n",
              "6     73       78       68    B\n",
              "7     82       82       80    B\n",
              "8     90       80       94    A\n",
              "9     94       88       98    A\n",
              "10    24       70       38    C"
            ]
          },
          "metadata": {
            "tags": []
          },
          "execution_count": 114
        }
      ]
    },
    {
      "cell_type": "code",
      "metadata": {
        "colab": {
          "base_uri": "https://localhost:8080/",
          "height": 282
        },
        "id": "_oYTY8NBKdiB",
        "outputId": "cbdc5286-88d4-4566-d6e0-a511a4d37553"
      },
      "source": [
        "scores.plot.box()"
      ],
      "execution_count": null,
      "outputs": [
        {
          "output_type": "execute_result",
          "data": {
            "text/plain": [
              "<matplotlib.axes._subplots.AxesSubplot at 0x7faa5ee09780>"
            ]
          },
          "metadata": {
            "tags": []
          },
          "execution_count": 115
        },
        {
          "output_type": "display_data",
          "data": {
            "image/png": "[encoded data removed]",
            "text/plain": [
              "<Figure size 432x288 with 1 Axes>"
            ]
          },
          "metadata": {
            "tags": [],
            "needs_background": "light"
          }
        }
      ]
    },
    {
      "cell_type": "code",
      "metadata": {
        "colab": {
          "base_uri": "https://localhost:8080/",
          "height": 296
        },
        "id": "w9m5Np19K7Aw",
        "outputId": "8dc14f11-9da0-4968-8e22-fd15071a18e5"
      },
      "source": [
        "scores.plot.scatter(x=\"Math\", y=\"Science\")"
      ],
      "execution_count": null,
      "outputs": [
        {
          "output_type": "execute_result",
          "data": {
            "text/plain": [
              "<matplotlib.axes._subplots.AxesSubplot at 0x7faa5cd8fc88>"
            ]
          },
          "metadata": {
            "tags": []
          },
          "execution_count": 116
        },
        {
          "output_type": "display_data",
          "data": {
            "image/png": "[encoded data removed]",
            "text/plain": [
              "<Figure size 432x288 with 1 Axes>"
            ]
          },
          "metadata": {
            "tags": [],
            "needs_background": "light"
          }
        }
      ]
    },
    {
      "cell_type": "code",
      "metadata": {
        "id": "P1_P0OivLc11"
      },
      "source": [
        ""
      ],
      "execution_count": null,
      "outputs": []
    }
  ]
}